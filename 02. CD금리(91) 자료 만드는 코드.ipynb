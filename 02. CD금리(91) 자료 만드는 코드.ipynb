{
 "cells": [
  {
   "cell_type": "code",
   "execution_count": 1,
   "id": "fcecfb8d",
   "metadata": {},
   "outputs": [],
   "source": [
    "import pandas as pd\n",
    "from pandas import DataFrame, Series\n",
    "import requests as re\n",
    "from bs4 import BeautifulSoup"
   ]
  },
  {
   "cell_type": "code",
   "execution_count": 2,
   "id": "f6fa0e49",
   "metadata": {},
   "outputs": [],
   "source": [
    "url = 'http://finance.naver.com/marketindex/interestDailyQuote.nhn?marketindexCd=IRR_CD91&page=1'\n",
    "\n",
    "crawling_list = ['IRR_CALL',]\n",
    "\n",
    "def crawling_interest_rates():\n",
    "    data_dict = {'IRR_CD91':[],\n",
    "                 'IRR_CALL':[],\n",
    "                 'IRR_GOVT03Y':[],\n",
    "                 'IRR_CORP03Y':[]}\n",
    "\n",
    "    label_list = ['IRR_CD91','IRR_CALL','IRR_GOVT03Y','IRR_CORP03Y']\n",
    "\n",
    "    Data = DataFrame()\n",
    "    \n",
    "    for label in label_list:\n",
    "    \n",
    "        date_list = []\n",
    "        \n",
    "        try:\n",
    "            for i in range(1,700):\n",
    "                url = re.get('http://finance.naver.com/marketindex/interestDailyQuote.nhn?marketindexCd=%s&page=%s'%(label,i))\n",
    "                url = url.content\n",
    "        \n",
    "                soup = BeautifulSoup(url,'html.parser')\n",
    "        \n",
    "                # 날짜 가져오기\n",
    "                dates = soup.select('tr > td.date')\n",
    "            \n",
    "            \n",
    "                # 빈테이지인지 테스트\n",
    "                try:\n",
    "                    test = soup.find('tbody').find('tr').find('td',{'class':'num'}).text # .text가 에러를 반환하는가?\n",
    "                except:\n",
    "                    break\n",
    "            \n",
    "            \n",
    "                # 처음 한번만 가져오자\n",
    "                for date in dates:\n",
    "                    date_list.append(date.text.strip())\n",
    "                    \n",
    "                                        \n",
    "        \n",
    "                rates = soup.find('tbody').find_all('tr')\n",
    "        \n",
    "                for rate in rates:\n",
    "                    data_dict[label].append(rate.find('td',{'class':'num'}).text.strip())\n",
    "            \n",
    "        except:\n",
    "            print('Error')\n",
    "        \n",
    "        temp_dataframe = DataFrame(data_dict[label], index = date_list)\n",
    "        Data = pd.merge(Data,temp_dataframe,how = 'outer', left_index = True, right_index = True)\n",
    "        \n",
    "        print(label + '의 자료를 성공적으로 가져왔습니다')\n",
    "    \n",
    "    Data.columns = ['CD91일', '콜 금리', '국고채 3년', '회사채 3년']\n",
    "    Data.to_csv('interest_rate.csv')\n",
    "    return Data"
   ]
  },
  {
   "cell_type": "code",
   "execution_count": 3,
   "id": "15ed457c",
   "metadata": {},
   "outputs": [
    {
     "name": "stdout",
     "output_type": "stream",
     "text": [
      "IRR_CD91의 자료를 성공적으로 가져왔습니다\n",
      "IRR_CALL의 자료를 성공적으로 가져왔습니다\n",
      "IRR_GOVT03Y의 자료를 성공적으로 가져왔습니다\n",
      "IRR_CORP03Y의 자료를 성공적으로 가져왔습니다\n"
     ]
    },
    {
     "name": "stderr",
     "output_type": "stream",
     "text": [
      "C:\\Users\\jw\\AppData\\Local\\Temp\\ipykernel_6444\\2756303845.py:52: FutureWarning: Passing 'suffixes' which cause duplicate columns {'0_x'} in the result is deprecated and will raise a MergeError in a future version.\n",
      "  Data = pd.merge(Data,temp_dataframe,how = 'outer', left_index = True, right_index = True)\n"
     ]
    }
   ],
   "source": [
    "DATA = crawling_interest_rates()"
   ]
  }
 ],
 "metadata": {
  "kernelspec": {
   "display_name": "Python 3 (ipykernel)",
   "language": "python",
   "name": "python3"
  },
  "language_info": {
   "codemirror_mode": {
    "name": "ipython",
    "version": 3
   },
   "file_extension": ".py",
   "mimetype": "text/x-python",
   "name": "python",
   "nbconvert_exporter": "python",
   "pygments_lexer": "ipython3",
   "version": "3.9.13"
  }
 },
 "nbformat": 4,
 "nbformat_minor": 5
}
