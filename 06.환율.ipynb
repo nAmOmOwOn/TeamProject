{
 "cells": [
  {
   "cell_type": "code",
   "execution_count": 1,
   "id": "bb81defb",
   "metadata": {},
   "outputs": [],
   "source": [
    "import pandas as pd\n",
    "import numpy as np\n",
    "import pandas_datareader as pdr\n",
    "import matplotlib.pyplot as plt\n",
    "import FinanceDataReader as fdr\n",
    "import matplotlib\n",
    "matplotlib.rcParams['font.family'] = 'Malgun Gothic' # Windows\n",
    "# matplotlib.rcParams['font.family'] = 'AppleGothic' # Mac\n",
    "matplotlib.rcParams['font.size'] = 12 # 글자 크기\n",
    "matplotlib.rcParams['axes.unicode_minus'] = False # 한글 폰트 사용 시, 마이너스 글자가 깨지는 현상을 해결"
   ]
  },
  {
   "cell_type": "markdown",
   "id": "5be48aba",
   "metadata": {},
   "source": [
    "## 환율 데이터 가져오기"
   ]
  },
  {
   "cell_type": "code",
   "execution_count": 2,
   "id": "d4a3ed3f",
   "metadata": {},
   "outputs": [
    {
     "data": {
      "text/html": [
       "<div>\n",
       "<style scoped>\n",
       "    .dataframe tbody tr th:only-of-type {\n",
       "        vertical-align: middle;\n",
       "    }\n",
       "\n",
       "    .dataframe tbody tr th {\n",
       "        vertical-align: top;\n",
       "    }\n",
       "\n",
       "    .dataframe thead th {\n",
       "        text-align: right;\n",
       "    }\n",
       "</style>\n",
       "<table border=\"1\" class=\"dataframe\">\n",
       "  <thead>\n",
       "    <tr style=\"text-align: right;\">\n",
       "      <th></th>\n",
       "      <th>Open</th>\n",
       "      <th>High</th>\n",
       "      <th>Low</th>\n",
       "      <th>Close</th>\n",
       "      <th>Adj Close</th>\n",
       "      <th>Volume</th>\n",
       "    </tr>\n",
       "    <tr>\n",
       "      <th>Date</th>\n",
       "      <th></th>\n",
       "      <th></th>\n",
       "      <th></th>\n",
       "      <th></th>\n",
       "      <th></th>\n",
       "      <th></th>\n",
       "    </tr>\n",
       "  </thead>\n",
       "  <tbody>\n",
       "    <tr>\n",
       "      <th>2013-01-01</th>\n",
       "      <td>1062.500000</td>\n",
       "      <td>1064.500000</td>\n",
       "      <td>1061.640015</td>\n",
       "      <td>1062.500000</td>\n",
       "      <td>1062.500000</td>\n",
       "      <td>0.0</td>\n",
       "    </tr>\n",
       "    <tr>\n",
       "      <th>2013-01-02</th>\n",
       "      <td>1062.599976</td>\n",
       "      <td>1064.800049</td>\n",
       "      <td>1061.500000</td>\n",
       "      <td>1062.500000</td>\n",
       "      <td>1062.500000</td>\n",
       "      <td>0.0</td>\n",
       "    </tr>\n",
       "    <tr>\n",
       "      <th>2013-01-03</th>\n",
       "      <td>1062.400024</td>\n",
       "      <td>1063.800049</td>\n",
       "      <td>1059.199951</td>\n",
       "      <td>1062.599976</td>\n",
       "      <td>1062.599976</td>\n",
       "      <td>0.0</td>\n",
       "    </tr>\n",
       "    <tr>\n",
       "      <th>2013-01-04</th>\n",
       "      <td>1062.000000</td>\n",
       "      <td>1064.199951</td>\n",
       "      <td>1060.750000</td>\n",
       "      <td>1061.900024</td>\n",
       "      <td>1061.900024</td>\n",
       "      <td>0.0</td>\n",
       "    </tr>\n",
       "    <tr>\n",
       "      <th>2013-01-07</th>\n",
       "      <td>1055.000000</td>\n",
       "      <td>1063.900024</td>\n",
       "      <td>1033.000000</td>\n",
       "      <td>1033.099976</td>\n",
       "      <td>1033.099976</td>\n",
       "      <td>0.0</td>\n",
       "    </tr>\n",
       "  </tbody>\n",
       "</table>\n",
       "</div>"
      ],
      "text/plain": [
       "                   Open         High          Low        Close    Adj Close  \\\n",
       "Date                                                                          \n",
       "2013-01-01  1062.500000  1064.500000  1061.640015  1062.500000  1062.500000   \n",
       "2013-01-02  1062.599976  1064.800049  1061.500000  1062.500000  1062.500000   \n",
       "2013-01-03  1062.400024  1063.800049  1059.199951  1062.599976  1062.599976   \n",
       "2013-01-04  1062.000000  1064.199951  1060.750000  1061.900024  1061.900024   \n",
       "2013-01-07  1055.000000  1063.900024  1033.000000  1033.099976  1033.099976   \n",
       "\n",
       "            Volume  \n",
       "Date                \n",
       "2013-01-01     0.0  \n",
       "2013-01-02     0.0  \n",
       "2013-01-03     0.0  \n",
       "2013-01-04     0.0  \n",
       "2013-01-07     0.0  "
      ]
     },
     "execution_count": 2,
     "metadata": {},
     "output_type": "execute_result"
    }
   ],
   "source": [
    "UK_df = fdr.DataReader('USD/KRW', '2013') # 2013 에 원하는 년도 넣으면 됨\n",
    "UK_df.head()"
   ]
  },
  {
   "cell_type": "code",
   "execution_count": 3,
   "id": "c5ffcd0a",
   "metadata": {},
   "outputs": [
    {
     "data": {
      "text/plain": [
       "Date\n",
       "2013-01-01    1062.500000\n",
       "2013-01-02    1062.500000\n",
       "2013-01-03    1062.599976\n",
       "2013-01-04    1061.900024\n",
       "2013-01-07    1033.099976\n",
       "Name: Close, dtype: float64"
      ]
     },
     "execution_count": 3,
     "metadata": {},
     "output_type": "execute_result"
    }
   ],
   "source": [
    "UK_df['Close'].head()"
   ]
  },
  {
   "cell_type": "markdown",
   "id": "d73b3dc5",
   "metadata": {},
   "source": [
    "## 데이터 수 확인"
   ]
  },
  {
   "cell_type": "code",
   "execution_count": 4,
   "id": "05166974",
   "metadata": {},
   "outputs": [
    {
     "data": {
      "text/plain": [
       "2707"
      ]
     },
     "execution_count": 4,
     "metadata": {},
     "output_type": "execute_result"
    }
   ],
   "source": [
    "len(UK_df['Close'])"
   ]
  },
  {
   "cell_type": "markdown",
   "id": "5b380bd8",
   "metadata": {},
   "source": [
    "## 인덱스 타입 확인"
   ]
  },
  {
   "cell_type": "code",
   "execution_count": 5,
   "id": "837989ad",
   "metadata": {},
   "outputs": [
    {
     "data": {
      "text/plain": [
       "pandas.core.indexes.datetimes.DatetimeIndex"
      ]
     },
     "execution_count": 5,
     "metadata": {},
     "output_type": "execute_result"
    }
   ],
   "source": [
    "type(UK_df.index)"
   ]
  },
  {
   "cell_type": "code",
   "execution_count": 6,
   "id": "08496c2c",
   "metadata": {},
   "outputs": [
    {
     "data": {
      "text/plain": [
       "True"
      ]
     },
     "execution_count": 6,
     "metadata": {},
     "output_type": "execute_result"
    }
   ],
   "source": [
    "UK_df['Close'].isna().any() # NaN 값이 1개 이상 존재하면 True 아니면 False"
   ]
  },
  {
   "cell_type": "code",
   "execution_count": 7,
   "id": "98eb6bfa",
   "metadata": {},
   "outputs": [],
   "source": [
    "def get_Data_SaveCsv(df, date, filename): # date ex)'2023-01-01' filename ex) 'OIL'\n",
    "    df = df.loc[date:]\n",
    "    return df.to_csv('{}.csv'.format(filename), index=True)\n",
    "\n",
    "# df 는 table, ex) OIL_df, KS200_df ..등등\n",
    "# date 에는 언제부터 ~ 오늘까지 가져오는 날짜임(시작날짜)\n",
    "# filename 은 내가 저장할 파일 이름 적어주면 됨"
   ]
  },
  {
   "cell_type": "markdown",
   "id": "32cec821",
   "metadata": {},
   "source": [
    "#### Test"
   ]
  },
  {
   "cell_type": "code",
   "execution_count": 8,
   "id": "79e5cdc1",
   "metadata": {},
   "outputs": [],
   "source": [
    "get_Data_SaveCsv(UK_df, '2013-01-01', 'UK')"
   ]
  }
 ],
 "metadata": {
  "kernelspec": {
   "display_name": "Python 3 (ipykernel)",
   "language": "python",
   "name": "python3"
  },
  "language_info": {
   "codemirror_mode": {
    "name": "ipython",
    "version": 3
   },
   "file_extension": ".py",
   "mimetype": "text/x-python",
   "name": "python",
   "nbconvert_exporter": "python",
   "pygments_lexer": "ipython3",
   "version": "3.9.13"
  }
 },
 "nbformat": 4,
 "nbformat_minor": 5
}
