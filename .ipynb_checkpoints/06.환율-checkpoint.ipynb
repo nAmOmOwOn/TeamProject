{
 "cells": [
  {
   "cell_type": "code",
   "execution_count": 1,
   "id": "bb81defb",
   "metadata": {},
   "outputs": [],
   "source": [
    "import pandas as pd\n",
    "import numpy as np\n",
    "import pandas_datareader as pdr\n",
    "import matplotlib.pyplot as plt\n",
    "import FinanceDataReader as fdr\n",
    "import matplotlib\n",
    "matplotlib.rcParams['font.family'] = 'Malgun Gothic' # Windows\n",
    "# matplotlib.rcParams['font.family'] = 'AppleGothic' # Mac\n",
    "matplotlib.rcParams['font.size'] = 12 # 글자 크기\n",
    "matplotlib.rcParams['axes.unicode_minus'] = False # 한글 폰트 사용 시, 마이너스 글자가 깨지는 현상을 해결\n",
    "from datetime import date, timedelta"
   ]
  },
  {
   "cell_type": "markdown",
   "id": "5be48aba",
   "metadata": {},
   "source": [
    "## 환율 데이터 가져오기"
   ]
  },
  {
   "cell_type": "code",
   "execution_count": 2,
   "id": "d4a3ed3f",
   "metadata": {},
   "outputs": [
    {
     "data": {
      "text/html": [
       "<div>\n",
       "<style scoped>\n",
       "    .dataframe tbody tr th:only-of-type {\n",
       "        vertical-align: middle;\n",
       "    }\n",
       "\n",
       "    .dataframe tbody tr th {\n",
       "        vertical-align: top;\n",
       "    }\n",
       "\n",
       "    .dataframe thead th {\n",
       "        text-align: right;\n",
       "    }\n",
       "</style>\n",
       "<table border=\"1\" class=\"dataframe\">\n",
       "  <thead>\n",
       "    <tr style=\"text-align: right;\">\n",
       "      <th></th>\n",
       "      <th>Open</th>\n",
       "      <th>High</th>\n",
       "      <th>Low</th>\n",
       "      <th>Close</th>\n",
       "      <th>Adj Close</th>\n",
       "      <th>Volume</th>\n",
       "    </tr>\n",
       "    <tr>\n",
       "      <th>Date</th>\n",
       "      <th></th>\n",
       "      <th></th>\n",
       "      <th></th>\n",
       "      <th></th>\n",
       "      <th></th>\n",
       "      <th></th>\n",
       "    </tr>\n",
       "  </thead>\n",
       "  <tbody>\n",
       "    <tr>\n",
       "      <th>2023-01-02</th>\n",
       "      <td>1260.910034</td>\n",
       "      <td>1273.930054</td>\n",
       "      <td>1256.550049</td>\n",
       "      <td>1260.910034</td>\n",
       "      <td>1260.910034</td>\n",
       "      <td>0</td>\n",
       "    </tr>\n",
       "    <tr>\n",
       "      <th>2023-01-03</th>\n",
       "      <td>1270.099976</td>\n",
       "      <td>1278.969971</td>\n",
       "      <td>1264.390015</td>\n",
       "      <td>1270.099976</td>\n",
       "      <td>1270.099976</td>\n",
       "      <td>0</td>\n",
       "    </tr>\n",
       "    <tr>\n",
       "      <th>2023-01-04</th>\n",
       "      <td>1279.079956</td>\n",
       "      <td>1279.719971</td>\n",
       "      <td>1267.560059</td>\n",
       "      <td>1279.079956</td>\n",
       "      <td>1279.079956</td>\n",
       "      <td>0</td>\n",
       "    </tr>\n",
       "    <tr>\n",
       "      <th>2023-01-05</th>\n",
       "      <td>1271.079956</td>\n",
       "      <td>1278.229980</td>\n",
       "      <td>1265.739990</td>\n",
       "      <td>1271.079956</td>\n",
       "      <td>1271.079956</td>\n",
       "      <td>0</td>\n",
       "    </tr>\n",
       "    <tr>\n",
       "      <th>2023-01-06</th>\n",
       "      <td>1274.180054</td>\n",
       "      <td>1274.180054</td>\n",
       "      <td>1253.010010</td>\n",
       "      <td>1274.180054</td>\n",
       "      <td>1274.180054</td>\n",
       "      <td>0</td>\n",
       "    </tr>\n",
       "  </tbody>\n",
       "</table>\n",
       "</div>"
      ],
      "text/plain": [
       "                   Open         High          Low        Close    Adj Close  \\\n",
       "Date                                                                          \n",
       "2023-01-02  1260.910034  1273.930054  1256.550049  1260.910034  1260.910034   \n",
       "2023-01-03  1270.099976  1278.969971  1264.390015  1270.099976  1270.099976   \n",
       "2023-01-04  1279.079956  1279.719971  1267.560059  1279.079956  1279.079956   \n",
       "2023-01-05  1271.079956  1278.229980  1265.739990  1271.079956  1271.079956   \n",
       "2023-01-06  1274.180054  1274.180054  1253.010010  1274.180054  1274.180054   \n",
       "\n",
       "            Volume  \n",
       "Date                \n",
       "2023-01-02       0  \n",
       "2023-01-03       0  \n",
       "2023-01-04       0  \n",
       "2023-01-05       0  \n",
       "2023-01-06       0  "
      ]
     },
     "execution_count": 2,
     "metadata": {},
     "output_type": "execute_result"
    }
   ],
   "source": [
    "UK_df = fdr.DataReader('USD/KRW', '2023') # 2023 에 원하는 년도 넣으면 됨\n",
    "UK_df.head()"
   ]
  },
  {
   "cell_type": "code",
   "execution_count": 3,
   "id": "c5ffcd0a",
   "metadata": {},
   "outputs": [
    {
     "data": {
      "text/plain": [
       "Date\n",
       "2023-01-02    1260.910034\n",
       "2023-01-03    1270.099976\n",
       "2023-01-04    1279.079956\n",
       "2023-01-05    1271.079956\n",
       "2023-01-06    1274.180054\n",
       "Name: Close, dtype: float64"
      ]
     },
     "execution_count": 3,
     "metadata": {},
     "output_type": "execute_result"
    }
   ],
   "source": [
    "UK_df['Close'].head()"
   ]
  },
  {
   "cell_type": "markdown",
   "id": "d73b3dc5",
   "metadata": {},
   "source": [
    "## 데이터 수 확인"
   ]
  },
  {
   "cell_type": "code",
   "execution_count": 4,
   "id": "05166974",
   "metadata": {},
   "outputs": [
    {
     "data": {
      "text/plain": [
       "101"
      ]
     },
     "execution_count": 4,
     "metadata": {},
     "output_type": "execute_result"
    }
   ],
   "source": [
    "len(UK_df['Close'])"
   ]
  },
  {
   "cell_type": "markdown",
   "id": "5b380bd8",
   "metadata": {},
   "source": [
    "## 인덱스 타입 확인"
   ]
  },
  {
   "cell_type": "code",
   "execution_count": 5,
   "id": "837989ad",
   "metadata": {},
   "outputs": [
    {
     "data": {
      "text/plain": [
       "pandas.core.indexes.datetimes.DatetimeIndex"
      ]
     },
     "execution_count": 5,
     "metadata": {},
     "output_type": "execute_result"
    }
   ],
   "source": [
    "type(UK_df.index)"
   ]
  },
  {
   "cell_type": "code",
   "execution_count": 6,
   "id": "08496c2c",
   "metadata": {
    "scrolled": true
   },
   "outputs": [
    {
     "data": {
      "text/plain": [
       "False"
      ]
     },
     "execution_count": 6,
     "metadata": {},
     "output_type": "execute_result"
    }
   ],
   "source": [
    "UK_df['Close'].isna().any() # NaN 값이 1개 이상 존재하면 True 아니면 False"
   ]
  },
  {
   "cell_type": "markdown",
   "id": "d5b32741",
   "metadata": {},
   "source": [
    "## 데이터 저장 함수"
   ]
  },
  {
   "cell_type": "code",
   "execution_count": 7,
   "id": "98eb6bfa",
   "metadata": {},
   "outputs": [],
   "source": [
    "def get_Data_SaveCsv(df, date, filename): # date ex)'2023-01-01' filename ex) 'OIL'\n",
    "    df = df.loc[date:]\n",
    "    return df.to_csv('{}.csv'.format(filename), index=True)\n",
    "\n",
    "# df 는 table, ex) OIL_df, KS200_df ..등등\n",
    "# date 에는 언제부터 ~ 오늘까지 가져오는 날짜임(시작날짜)\n",
    "# filename 은 내가 저장할 파일 이름 적어주면 됨"
   ]
  },
  {
   "cell_type": "markdown",
   "id": "8f9cb206",
   "metadata": {},
   "source": [
    "### 오늘 날짜 기준 X일 이전 날짜 구해주는 코드"
   ]
  },
  {
   "cell_type": "code",
   "execution_count": 8,
   "id": "00329794",
   "metadata": {},
   "outputs": [
    {
     "data": {
      "text/plain": [
       "'2023-03-13'"
      ]
     },
     "execution_count": 8,
     "metadata": {},
     "output_type": "execute_result"
    }
   ],
   "source": [
    "today = date.today()\n",
    "previous_date = today - timedelta(days=70) # days = 뒤에 원하는 숫자 넣으면 됨\n",
    "today_before = previous_date.strftime(\"%Y-%m-%d\")\n",
    "today_before"
   ]
  },
  {
   "cell_type": "markdown",
   "id": "32cec821",
   "metadata": {},
   "source": [
    "#### Test"
   ]
  },
  {
   "cell_type": "code",
   "execution_count": 9,
   "id": "79e5cdc1",
   "metadata": {},
   "outputs": [],
   "source": [
    "get_Data_SaveCsv(UK_df, today_before, 'UK')"
   ]
  }
 ],
 "metadata": {
  "kernelspec": {
   "display_name": "Python 3 (ipykernel)",
   "language": "python",
   "name": "python3"
  },
  "language_info": {
   "codemirror_mode": {
    "name": "ipython",
    "version": 3
   },
   "file_extension": ".py",
   "mimetype": "text/x-python",
   "name": "python",
   "nbconvert_exporter": "python",
   "pygments_lexer": "ipython3",
   "version": "3.9.13"
  }
 },
 "nbformat": 4,
 "nbformat_minor": 5
}
