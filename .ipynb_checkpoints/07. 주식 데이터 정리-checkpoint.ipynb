{
 "cells": [
  {
   "cell_type": "code",
   "execution_count": 1,
   "id": "b6ed883a",
   "metadata": {},
   "outputs": [],
   "source": [
    "import pandas as pd\n",
    "import numpy as np\n",
    "import plotly.express as px\n",
    "import plotly.graph_objects as go\n",
    "from sklearn.linear_model import LinearRegression\n",
    "from sklearn.preprocessing import PolynomialFeatures\n",
    "import pandas_datareader as pdr\n",
    "import matplotlib.pyplot as plt\n",
    "import FinanceDataReader as fdr\n",
    "import matplotlib\n",
    "matplotlib.rcParams['font.family'] = 'Malgun Gothic' # Windows\n",
    "# matplotlib.rcParams['font.family'] = 'AppleGothic' # Mac\n",
    "matplotlib.rcParams['font.size'] = 12 # 글자 크기\n",
    "matplotlib.rcParams['axes.unicode_minus'] = False # 한글 폰트 사용 시, 마이너스 글자가 깨지는 현상을 해결\n",
    "from datetime import date, timedelta"
   ]
  },
  {
   "cell_type": "code",
   "execution_count": 2,
   "id": "e1215909",
   "metadata": {},
   "outputs": [],
   "source": [
    "def Read_data(filename):\n",
    "    df = pd.read_excel(\"{}.xlsx\".format(filename))\n",
    "    return df"
   ]
  },
  {
   "cell_type": "code",
   "execution_count": 3,
   "id": "0d86140c",
   "metadata": {},
   "outputs": [
    {
     "data": {
      "text/html": [
       "<div>\n",
       "<style scoped>\n",
       "    .dataframe tbody tr th:only-of-type {\n",
       "        vertical-align: middle;\n",
       "    }\n",
       "\n",
       "    .dataframe tbody tr th {\n",
       "        vertical-align: top;\n",
       "    }\n",
       "\n",
       "    .dataframe thead th {\n",
       "        text-align: right;\n",
       "    }\n",
       "</style>\n",
       "<table border=\"1\" class=\"dataframe\">\n",
       "  <thead>\n",
       "    <tr style=\"text-align: right;\">\n",
       "      <th></th>\n",
       "      <th>표준코드</th>\n",
       "      <th>단축코드</th>\n",
       "      <th>한글 종목명</th>\n",
       "      <th>한글 종목약명</th>\n",
       "      <th>영문 종목명</th>\n",
       "      <th>상장일</th>\n",
       "      <th>시장구분</th>\n",
       "      <th>증권구분</th>\n",
       "      <th>소속부</th>\n",
       "      <th>주식종류</th>\n",
       "      <th>액면가</th>\n",
       "      <th>상장주식수</th>\n",
       "    </tr>\n",
       "  </thead>\n",
       "  <tbody>\n",
       "    <tr>\n",
       "      <th>0</th>\n",
       "      <td>KR7095570008</td>\n",
       "      <td>095570</td>\n",
       "      <td>AJ네트웍스보통주</td>\n",
       "      <td>AJ네트웍스</td>\n",
       "      <td>AJ Networks Co.,Ltd.</td>\n",
       "      <td>2015/08/21</td>\n",
       "      <td>KOSPI</td>\n",
       "      <td>주권</td>\n",
       "      <td>NaN</td>\n",
       "      <td>보통주</td>\n",
       "      <td>1000</td>\n",
       "      <td>46822295</td>\n",
       "    </tr>\n",
       "    <tr>\n",
       "      <th>1</th>\n",
       "      <td>KR7006840003</td>\n",
       "      <td>006840</td>\n",
       "      <td>AK홀딩스보통주</td>\n",
       "      <td>AK홀딩스</td>\n",
       "      <td>AK Holdings, Inc.</td>\n",
       "      <td>1999/08/11</td>\n",
       "      <td>KOSPI</td>\n",
       "      <td>주권</td>\n",
       "      <td>NaN</td>\n",
       "      <td>보통주</td>\n",
       "      <td>5000</td>\n",
       "      <td>13247561</td>\n",
       "    </tr>\n",
       "    <tr>\n",
       "      <th>2</th>\n",
       "      <td>KR7282330000</td>\n",
       "      <td>282330</td>\n",
       "      <td>BGF리테일보통주</td>\n",
       "      <td>BGF리테일</td>\n",
       "      <td>BGF Retail</td>\n",
       "      <td>2017/12/08</td>\n",
       "      <td>KOSPI</td>\n",
       "      <td>주권</td>\n",
       "      <td>NaN</td>\n",
       "      <td>보통주</td>\n",
       "      <td>1000</td>\n",
       "      <td>17283906</td>\n",
       "    </tr>\n",
       "    <tr>\n",
       "      <th>3</th>\n",
       "      <td>KR7027410000</td>\n",
       "      <td>027410</td>\n",
       "      <td>BGF보통주</td>\n",
       "      <td>BGF</td>\n",
       "      <td>BGF</td>\n",
       "      <td>2014/05/19</td>\n",
       "      <td>KOSPI</td>\n",
       "      <td>주권</td>\n",
       "      <td>NaN</td>\n",
       "      <td>보통주</td>\n",
       "      <td>1000</td>\n",
       "      <td>95716791</td>\n",
       "    </tr>\n",
       "    <tr>\n",
       "      <th>4</th>\n",
       "      <td>KR7138930003</td>\n",
       "      <td>138930</td>\n",
       "      <td>BNK금융지주보통주</td>\n",
       "      <td>BNK금융지주</td>\n",
       "      <td>BNK Financial Group Inc.</td>\n",
       "      <td>2011/03/30</td>\n",
       "      <td>KOSPI</td>\n",
       "      <td>주권</td>\n",
       "      <td>NaN</td>\n",
       "      <td>보통주</td>\n",
       "      <td>5000</td>\n",
       "      <td>325935246</td>\n",
       "    </tr>\n",
       "  </tbody>\n",
       "</table>\n",
       "</div>"
      ],
      "text/plain": [
       "           표준코드    단축코드      한글 종목명  한글 종목약명                    영문 종목명  \\\n",
       "0  KR7095570008  095570   AJ네트웍스보통주   AJ네트웍스      AJ Networks Co.,Ltd.   \n",
       "1  KR7006840003  006840    AK홀딩스보통주    AK홀딩스         AK Holdings, Inc.   \n",
       "2  KR7282330000  282330   BGF리테일보통주   BGF리테일                BGF Retail   \n",
       "3  KR7027410000  027410      BGF보통주      BGF                       BGF   \n",
       "4  KR7138930003  138930  BNK금융지주보통주  BNK금융지주  BNK Financial Group Inc.   \n",
       "\n",
       "          상장일   시장구분 증권구분  소속부 주식종류   액면가      상장주식수  \n",
       "0  2015/08/21  KOSPI   주권  NaN  보통주  1000   46822295  \n",
       "1  1999/08/11  KOSPI   주권  NaN  보통주  5000   13247561  \n",
       "2  2017/12/08  KOSPI   주권  NaN  보통주  1000   17283906  \n",
       "3  2014/05/19  KOSPI   주권  NaN  보통주  1000   95716791  \n",
       "4  2011/03/30  KOSPI   주권  NaN  보통주  5000  325935246  "
      ]
     },
     "execution_count": 3,
     "metadata": {},
     "output_type": "execute_result"
    }
   ],
   "source": [
    "KOSPI_df = Read_data(\"(KOSPI)data_0017_20230519\")\n",
    "KOSPI_df.head()"
   ]
  },
  {
   "cell_type": "markdown",
   "id": "36c5d1f1",
   "metadata": {},
   "source": [
    "## 한글 종목명 입력해서 단축코드 가져오는 함수"
   ]
  },
  {
   "cell_type": "code",
   "execution_count": 4,
   "id": "ce409b49",
   "metadata": {},
   "outputs": [],
   "source": [
    "def KoName_return_Code(KoName):\n",
    "    result = KOSPI_df[KOSPI_df['한글 종목약명'] == KoName]\n",
    "    result = result['단축코드'].values\n",
    "    result = result[0]\n",
    "    return result"
   ]
  },
  {
   "cell_type": "code",
   "execution_count": 5,
   "id": "1a127874",
   "metadata": {},
   "outputs": [
    {
     "data": {
      "text/plain": [
       "'005930'"
      ]
     },
     "execution_count": 5,
     "metadata": {},
     "output_type": "execute_result"
    }
   ],
   "source": [
    "KoName_return_Code(\"삼성전자\")"
   ]
  },
  {
   "cell_type": "markdown",
   "id": "260e8905",
   "metadata": {},
   "source": [
    "## 주식 데이터 가공"
   ]
  },
  {
   "cell_type": "code",
   "execution_count": 6,
   "id": "a01ae146",
   "metadata": {},
   "outputs": [],
   "source": [
    "SamSung_df = fdr.DataReader(KoName_return_Code(\"삼성전자\"), '2023')"
   ]
  },
  {
   "cell_type": "code",
   "execution_count": 7,
   "id": "c3e9d84d",
   "metadata": {
    "scrolled": true
   },
   "outputs": [
    {
     "data": {
      "text/html": [
       "<div>\n",
       "<style scoped>\n",
       "    .dataframe tbody tr th:only-of-type {\n",
       "        vertical-align: middle;\n",
       "    }\n",
       "\n",
       "    .dataframe tbody tr th {\n",
       "        vertical-align: top;\n",
       "    }\n",
       "\n",
       "    .dataframe thead th {\n",
       "        text-align: right;\n",
       "    }\n",
       "</style>\n",
       "<table border=\"1\" class=\"dataframe\">\n",
       "  <thead>\n",
       "    <tr style=\"text-align: right;\">\n",
       "      <th></th>\n",
       "      <th>Open</th>\n",
       "      <th>High</th>\n",
       "      <th>Low</th>\n",
       "      <th>Close</th>\n",
       "      <th>Volume</th>\n",
       "      <th>Change</th>\n",
       "    </tr>\n",
       "    <tr>\n",
       "      <th>Date</th>\n",
       "      <th></th>\n",
       "      <th></th>\n",
       "      <th></th>\n",
       "      <th></th>\n",
       "      <th></th>\n",
       "      <th></th>\n",
       "    </tr>\n",
       "  </thead>\n",
       "  <tbody>\n",
       "    <tr>\n",
       "      <th>2023-01-02</th>\n",
       "      <td>55500</td>\n",
       "      <td>56100</td>\n",
       "      <td>55200</td>\n",
       "      <td>55500</td>\n",
       "      <td>10031448</td>\n",
       "      <td>0.003617</td>\n",
       "    </tr>\n",
       "    <tr>\n",
       "      <th>2023-01-03</th>\n",
       "      <td>55400</td>\n",
       "      <td>56000</td>\n",
       "      <td>54500</td>\n",
       "      <td>55400</td>\n",
       "      <td>13547030</td>\n",
       "      <td>-0.001802</td>\n",
       "    </tr>\n",
       "    <tr>\n",
       "      <th>2023-01-04</th>\n",
       "      <td>55700</td>\n",
       "      <td>58000</td>\n",
       "      <td>55600</td>\n",
       "      <td>57800</td>\n",
       "      <td>20188071</td>\n",
       "      <td>0.043321</td>\n",
       "    </tr>\n",
       "    <tr>\n",
       "      <th>2023-01-05</th>\n",
       "      <td>58200</td>\n",
       "      <td>58800</td>\n",
       "      <td>57600</td>\n",
       "      <td>58200</td>\n",
       "      <td>15682826</td>\n",
       "      <td>0.006920</td>\n",
       "    </tr>\n",
       "    <tr>\n",
       "      <th>2023-01-06</th>\n",
       "      <td>58300</td>\n",
       "      <td>59400</td>\n",
       "      <td>57900</td>\n",
       "      <td>59000</td>\n",
       "      <td>17334989</td>\n",
       "      <td>0.013746</td>\n",
       "    </tr>\n",
       "  </tbody>\n",
       "</table>\n",
       "</div>"
      ],
      "text/plain": [
       "             Open   High    Low  Close    Volume    Change\n",
       "Date                                                      \n",
       "2023-01-02  55500  56100  55200  55500  10031448  0.003617\n",
       "2023-01-03  55400  56000  54500  55400  13547030 -0.001802\n",
       "2023-01-04  55700  58000  55600  57800  20188071  0.043321\n",
       "2023-01-05  58200  58800  57600  58200  15682826  0.006920\n",
       "2023-01-06  58300  59400  57900  59000  17334989  0.013746"
      ]
     },
     "execution_count": 7,
     "metadata": {},
     "output_type": "execute_result"
    }
   ],
   "source": [
    "SamSung_df.head()"
   ]
  },
  {
   "cell_type": "markdown",
   "id": "00d113fe",
   "metadata": {},
   "source": [
    "## 인덱스 맞추기"
   ]
  },
  {
   "cell_type": "code",
   "execution_count": null,
   "id": "b019b07a",
   "metadata": {},
   "outputs": [],
   "source": [
    "def array_index(*dfs):\n",
    "    longest_df = max(dfs, key=lambda df: len(df)) # 넣은 데이터 중 가장 길이가 긴 데이터 찾기\n",
    "    result_dfs = []\n",
    "    \n",
    "    for df in dfs:\n",
    "        df = df.reindex(longest_df.index).fillna(method='ffill') # 가장 긴 데이터 기준 인덱스 채워넣기\n",
    "        result_dfs.append(df)\n",
    "        \n",
    "    return result_dfs"
   ]
  },
  {
   "cell_type": "code",
   "execution_count": null,
   "id": "82628516",
   "metadata": {},
   "outputs": [],
   "source": [
    "array_index(SamSung_df)"
   ]
  },
  {
   "cell_type": "markdown",
   "id": "5eb0bd6a",
   "metadata": {},
   "source": [
    "## NaN 값 없애기"
   ]
  },
  {
   "cell_type": "code",
   "execution_count": null,
   "id": "cb87f8eb",
   "metadata": {},
   "outputs": [],
   "source": [
    "def fill_Close_data(*dfs):\n",
    "    result = []\n",
    "    for df in dfs:\n",
    "        df['Close'] = df['Close'].fillna(method='bfill')\n",
    "        df['Name'] = df['Name'].fillna(method='bfill')\n",
    "        result.append(df)\n",
    "    return result"
   ]
  },
  {
   "cell_type": "code",
   "execution_count": null,
   "id": "40ee5549",
   "metadata": {},
   "outputs": [],
   "source": [
    "fill_Close_data(SamSung_df)"
   ]
  },
  {
   "cell_type": "markdown",
   "id": "049c22c5",
   "metadata": {},
   "source": [
    "### 파일저장"
   ]
  },
  {
   "cell_type": "code",
   "execution_count": 8,
   "id": "3c0597b2",
   "metadata": {},
   "outputs": [],
   "source": [
    "def get_Data_SaveCsv(df, date, filename): # date ex)'2023-01-01' filename ex) 'OIL'\n",
    "    df = df.loc[date:]\n",
    "    return df.to_csv('{}.csv'.format(filename), index=True)\n",
    "\n",
    "# df 는 table, ex) OIL_df, KS200_df ..등등\n",
    "# date 에는 언제부터 ~ 오늘까지 가져오는 날짜임(시작날짜)\n",
    "# filename 은 내가 저장할 파일 이름 적어주면 됨"
   ]
  },
  {
   "cell_type": "markdown",
   "id": "813e9246",
   "metadata": {},
   "source": [
    "### 날짜지정"
   ]
  },
  {
   "cell_type": "code",
   "execution_count": 9,
   "id": "2a8361bb",
   "metadata": {},
   "outputs": [
    {
     "data": {
      "text/plain": [
       "'2023-03-13'"
      ]
     },
     "execution_count": 9,
     "metadata": {},
     "output_type": "execute_result"
    }
   ],
   "source": [
    "today = date.today()\n",
    "previous_date = today - timedelta(days=70) # days = 뒤에 원하는 숫자 넣으면 됨\n",
    "today_before = previous_date.strftime(\"%Y-%m-%d\")\n",
    "today_before"
   ]
  },
  {
   "cell_type": "code",
   "execution_count": 10,
   "id": "420066e2",
   "metadata": {},
   "outputs": [],
   "source": [
    "get_Data_SaveCsv(SamSung_df, today_before, 'SamSung')"
   ]
  },
  {
   "cell_type": "code",
   "execution_count": null,
   "id": "b8e32834",
   "metadata": {},
   "outputs": [],
   "source": []
  },
  {
   "cell_type": "code",
   "execution_count": null,
   "id": "63c15874",
   "metadata": {},
   "outputs": [],
   "source": []
  },
  {
   "cell_type": "code",
   "execution_count": null,
   "id": "cfb9ee33",
   "metadata": {},
   "outputs": [],
   "source": []
  },
  {
   "cell_type": "code",
   "execution_count": null,
   "id": "8a529088",
   "metadata": {},
   "outputs": [],
   "source": []
  }
 ],
 "metadata": {
  "kernelspec": {
   "display_name": "Python 3 (ipykernel)",
   "language": "python",
   "name": "python3"
  },
  "language_info": {
   "codemirror_mode": {
    "name": "ipython",
    "version": 3
   },
   "file_extension": ".py",
   "mimetype": "text/x-python",
   "name": "python",
   "nbconvert_exporter": "python",
   "pygments_lexer": "ipython3",
   "version": "3.9.13"
  }
 },
 "nbformat": 4,
 "nbformat_minor": 5
}
