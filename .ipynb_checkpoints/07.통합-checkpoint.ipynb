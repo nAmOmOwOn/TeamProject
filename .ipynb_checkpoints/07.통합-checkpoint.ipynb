{
 "cells": [
  {
   "cell_type": "code",
   "execution_count": 1,
   "id": "f245c4bb",
   "metadata": {},
   "outputs": [],
   "source": [
    "import pandas as pd\n",
    "import numpy as np\n",
    "import pandas_datareader as pdr\n",
    "import matplotlib.pyplot as plt\n",
    "import FinanceDataReader as fdr\n",
    "import matplotlib\n",
    "matplotlib.rcParams['font.family'] = 'Malgun Gothic' # Windows\n",
    "# matplotlib.rcParams['font.family'] = 'AppleGothic' # Mac\n",
    "matplotlib.rcParams['font.size'] = 12 # 글자 크기\n",
    "matplotlib.rcParams['axes.unicode_minus'] = False # 한글 폰트 사용 시, 마이너스 글자가 깨지는 현상을 해결"
   ]
  },
  {
   "cell_type": "markdown",
   "id": "685d0b4a",
   "metadata": {},
   "source": [
    "## 파일 저장 후 그 파일의 인덱스 맞추는 함수"
   ]
  },
  {
   "cell_type": "code",
   "execution_count": 3,
   "id": "46716721",
   "metadata": {},
   "outputs": [],
   "source": [
    "def array_index(df1, df2, df3, df4): # df1의 len 이 가장 크다고 가정하고 함수 만듬\n",
    " \n",
    "    df2 = df2.reindex(df1.index).fillna(method='ffill')\n",
    "    df3 = df3.reindex(df1.index).fillna(method='ffill')\n",
    "    df4 = df4.reindex(df1.index).fillna(method='ffill')\n",
    "    return df1, df2, df3, df4"
   ]
  },
  {
   "cell_type": "markdown",
   "id": "53f4fcd8",
   "metadata": {},
   "source": [
    "## 종가(Close) 데이터 중 NaN 값을 그 다음 날짜 값으로 채워넣는 함수"
   ]
  },
  {
   "cell_type": "code",
   "execution_count": 4,
   "id": "6d085d4e",
   "metadata": {},
   "outputs": [],
   "source": [
    "def fill_Close_data(df1, df2, df3, df4):\n",
    "    df1['Close'] = df1['Close'].fillna(method='bfill')\n",
    "    df2['Close'] = df2['Close'].fillna(method='bfill')\n",
    "    df3['Close'] = df3['Close'].fillna(method='bfill')\n",
    "    df4['Close'] = df4['Close'].fillna(method='bfill')\n",
    "    return df1, df2, df3, df4\n",
    "    "
   ]
  },
  {
   "cell_type": "markdown",
   "id": "b3084d7d",
   "metadata": {},
   "source": [
    "## 상관관계 분석"
   ]
  },
  {
   "cell_type": "code",
   "execution_count": 5,
   "id": "8a9ac441",
   "metadata": {},
   "outputs": [],
   "source": [
    "import scipy.stats"
   ]
  },
  {
   "cell_type": "code",
   "execution_count": null,
   "id": "9517557e",
   "metadata": {},
   "outputs": [],
   "source": []
  },
  {
   "cell_type": "code",
   "execution_count": null,
   "id": "ec5f202d",
   "metadata": {},
   "outputs": [],
   "source": []
  },
  {
   "cell_type": "code",
   "execution_count": null,
   "id": "14544c43",
   "metadata": {},
   "outputs": [],
   "source": []
  },
  {
   "cell_type": "code",
   "execution_count": null,
   "id": "097c9b37",
   "metadata": {},
   "outputs": [],
   "source": []
  },
  {
   "cell_type": "code",
   "execution_count": null,
   "id": "fe137fa3",
   "metadata": {},
   "outputs": [],
   "source": []
  },
  {
   "cell_type": "code",
   "execution_count": null,
   "id": "259f84cd",
   "metadata": {},
   "outputs": [],
   "source": []
  },
  {
   "cell_type": "code",
   "execution_count": null,
   "id": "b18c9b0b",
   "metadata": {},
   "outputs": [],
   "source": []
  },
  {
   "cell_type": "code",
   "execution_count": null,
   "id": "2ce6357d",
   "metadata": {},
   "outputs": [],
   "source": []
  },
  {
   "cell_type": "code",
   "execution_count": null,
   "id": "3cee9a16",
   "metadata": {},
   "outputs": [],
   "source": []
  },
  {
   "cell_type": "code",
   "execution_count": null,
   "id": "6ac5a6d9",
   "metadata": {},
   "outputs": [],
   "source": []
  }
 ],
 "metadata": {
  "kernelspec": {
   "display_name": "Python 3 (ipykernel)",
   "language": "python",
   "name": "python3"
  },
  "language_info": {
   "codemirror_mode": {
    "name": "ipython",
    "version": 3
   },
   "file_extension": ".py",
   "mimetype": "text/x-python",
   "name": "python",
   "nbconvert_exporter": "python",
   "pygments_lexer": "ipython3",
   "version": "3.9.13"
  }
 },
 "nbformat": 4,
 "nbformat_minor": 5
}
