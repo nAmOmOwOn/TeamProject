{
 "cells": [
  {
   "cell_type": "code",
   "execution_count": 1,
   "id": "04c51460",
   "metadata": {},
   "outputs": [],
   "source": [
    "import pandas as pd\n",
    "import numpy as np\n",
    "import pandas_datareader as pdr\n",
    "import matplotlib.pyplot as plt\n",
    "import FinanceDataReader as fdr\n",
    "import matplotlib\n",
    "matplotlib.rcParams['font.family'] = 'Malgun Gothic' # Windows\n",
    "# matplotlib.rcParams['font.family'] = 'AppleGothic' # Mac\n",
    "matplotlib.rcParams['font.size'] = 12 # 글자 크기\n",
    "matplotlib.rcParams['axes.unicode_minus'] = False # 한글 폰트 사용 시, 마이너스 글자가 깨지는 현상을 해결"
   ]
  },
  {
   "cell_type": "markdown",
   "id": "eafc0c72",
   "metadata": {},
   "source": [
    "## 유가 데이터 불러오는 함수(불러 오기 전 데이터 생성부터 해야함)"
   ]
  },
  {
   "cell_type": "code",
   "execution_count": 2,
   "id": "5a18369f",
   "metadata": {},
   "outputs": [],
   "source": [
    "def read_OIL(date):\n",
    "    file_name = 'oil_price_{}.xlsx'.format(date)\n",
    "    OIL_df = pd.read_excel(file_name)\n",
    "    return OIL_df"
   ]
  },
  {
   "cell_type": "code",
   "execution_count": 3,
   "id": "bd7cd88d",
   "metadata": {},
   "outputs": [],
   "source": [
    "OIL_df = read_OIL(\"20230517\")"
   ]
  },
  {
   "cell_type": "code",
   "execution_count": 4,
   "id": "b1f3ebb0",
   "metadata": {},
   "outputs": [
    {
     "data": {
      "text/plain": [
       "4245"
      ]
     },
     "execution_count": 4,
     "metadata": {},
     "output_type": "execute_result"
    }
   ],
   "source": [
    "len(OIL_df['코드'])"
   ]
  },
  {
   "cell_type": "markdown",
   "id": "a5fb6c59",
   "metadata": {},
   "source": [
    "## 컬럼 명 변경 , 인덱스를 날짜로"
   ]
  },
  {
   "cell_type": "code",
   "execution_count": 5,
   "id": "335b39fe",
   "metadata": {},
   "outputs": [
    {
     "data": {
      "text/html": [
       "<div>\n",
       "<style scoped>\n",
       "    .dataframe tbody tr th:only-of-type {\n",
       "        vertical-align: middle;\n",
       "    }\n",
       "\n",
       "    .dataframe tbody tr th {\n",
       "        vertical-align: top;\n",
       "    }\n",
       "\n",
       "    .dataframe thead th {\n",
       "        text-align: right;\n",
       "    }\n",
       "</style>\n",
       "<table border=\"1\" class=\"dataframe\">\n",
       "  <thead>\n",
       "    <tr style=\"text-align: right;\">\n",
       "      <th></th>\n",
       "      <th>Code</th>\n",
       "      <th>Close</th>\n",
       "    </tr>\n",
       "    <tr>\n",
       "      <th>Date</th>\n",
       "      <th></th>\n",
       "      <th></th>\n",
       "    </tr>\n",
       "  </thead>\n",
       "  <tbody>\n",
       "    <tr>\n",
       "      <th>2006-04-18</th>\n",
       "      <td>OIL_DU</td>\n",
       "      <td>65.95</td>\n",
       "    </tr>\n",
       "    <tr>\n",
       "      <th>2006-04-19</th>\n",
       "      <td>OIL_DU</td>\n",
       "      <td>65.10</td>\n",
       "    </tr>\n",
       "    <tr>\n",
       "      <th>2006-04-20</th>\n",
       "      <td>OIL_DU</td>\n",
       "      <td>64.40</td>\n",
       "    </tr>\n",
       "    <tr>\n",
       "      <th>2006-04-21</th>\n",
       "      <td>OIL_DU</td>\n",
       "      <td>63.70</td>\n",
       "    </tr>\n",
       "    <tr>\n",
       "      <th>2006-04-24</th>\n",
       "      <td>OIL_DU</td>\n",
       "      <td>64.01</td>\n",
       "    </tr>\n",
       "  </tbody>\n",
       "</table>\n",
       "</div>"
      ],
      "text/plain": [
       "              Code  Close\n",
       "Date                     \n",
       "2006-04-18  OIL_DU  65.95\n",
       "2006-04-19  OIL_DU  65.10\n",
       "2006-04-20  OIL_DU  64.40\n",
       "2006-04-21  OIL_DU  63.70\n",
       "2006-04-24  OIL_DU  64.01"
      ]
     },
     "execution_count": 5,
     "metadata": {},
     "output_type": "execute_result"
    }
   ],
   "source": [
    "OIL_df = OIL_df[['날짜','코드','종가']]\n",
    "OIL_df.rename(columns={'날짜': 'Date'}, inplace=True)\n",
    "OIL_df.rename(columns={'종가': 'Close'}, inplace=True)\n",
    "OIL_df.rename(columns={'코드': 'Code'}, inplace=True)\n",
    "OIL_df.set_index('Date', inplace=True)\n",
    "OIL_df.sort_index(ascending=True, inplace=True)\n",
    "OIL_df.head()"
   ]
  },
  {
   "cell_type": "code",
   "execution_count": 6,
   "id": "2c0adb27",
   "metadata": {},
   "outputs": [
    {
     "data": {
      "text/plain": [
       "pandas.core.indexes.datetimes.DatetimeIndex"
      ]
     },
     "execution_count": 6,
     "metadata": {},
     "output_type": "execute_result"
    }
   ],
   "source": [
    "type(OIL_df.index)"
   ]
  },
  {
   "cell_type": "code",
   "execution_count": 7,
   "id": "c458b4f4",
   "metadata": {},
   "outputs": [
    {
     "data": {
      "text/plain": [
       "False"
      ]
     },
     "execution_count": 7,
     "metadata": {},
     "output_type": "execute_result"
    }
   ],
   "source": [
    "OIL_df['Close'].isna().any() # NaN 값이 1개 이상 존재하면 True 아니면 False"
   ]
  },
  {
   "cell_type": "markdown",
   "id": "9f3614a6",
   "metadata": {},
   "source": [
    "## 파일 저장 함수"
   ]
  },
  {
   "cell_type": "code",
   "execution_count": 8,
   "id": "a70d94e5",
   "metadata": {},
   "outputs": [],
   "source": [
    "def get_Data_SaveCsv(df, date, filename): # date ex)'2023-01-01' filename ex) 'OIL'\n",
    "    df = df.loc[date:]\n",
    "    return df.to_csv('{}.csv'.format(filename), index=True)\n",
    "\n",
    "# df 는 table, ex) OIL_df, KS200_df ..등등\n",
    "# date 에는 언제부터 ~ 오늘까지 가져오는 날짜임(시작날짜)\n",
    "# filename 은 내가 저장할 파일 이름 적어주면 됨"
   ]
  },
  {
   "cell_type": "markdown",
   "id": "c1738471",
   "metadata": {},
   "source": [
    "#### Test"
   ]
  },
  {
   "cell_type": "code",
   "execution_count": 9,
   "id": "ed9a6fbe",
   "metadata": {},
   "outputs": [],
   "source": [
    "get_Data_SaveCsv(OIL_df, '2013-01-01','OIL')"
   ]
  },
  {
   "cell_type": "code",
   "execution_count": null,
   "id": "d4795c01",
   "metadata": {},
   "outputs": [],
   "source": []
  },
  {
   "cell_type": "code",
   "execution_count": null,
   "id": "f66c936d",
   "metadata": {},
   "outputs": [],
   "source": []
  },
  {
   "cell_type": "code",
   "execution_count": null,
   "id": "f7eceab4",
   "metadata": {},
   "outputs": [],
   "source": []
  }
 ],
 "metadata": {
  "kernelspec": {
   "display_name": "Python 3 (ipykernel)",
   "language": "python",
   "name": "python3"
  },
  "language_info": {
   "codemirror_mode": {
    "name": "ipython",
    "version": 3
   },
   "file_extension": ".py",
   "mimetype": "text/x-python",
   "name": "python",
   "nbconvert_exporter": "python",
   "pygments_lexer": "ipython3",
   "version": "3.9.13"
  }
 },
 "nbformat": 4,
 "nbformat_minor": 5
}
