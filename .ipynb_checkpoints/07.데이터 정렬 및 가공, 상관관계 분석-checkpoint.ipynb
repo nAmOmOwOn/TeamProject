{
 "cells": [
  {
   "cell_type": "code",
   "execution_count": 1,
   "id": "f245c4bb",
   "metadata": {},
   "outputs": [],
   "source": [
    "import pandas as pd\n",
    "import numpy as np\n",
    "import pandas_datareader as pdr\n",
    "import matplotlib.pyplot as plt\n",
    "import FinanceDataReader as fdr\n",
    "import matplotlib\n",
    "matplotlib.rcParams['font.family'] = 'Malgun Gothic' # Windows\n",
    "# matplotlib.rcParams['font.family'] = 'AppleGothic' # Mac\n",
    "matplotlib.rcParams['font.size'] = 12 # 글자 크기\n",
    "matplotlib.rcParams['axes.unicode_minus'] = False # 한글 폰트 사용 시, 마이너스 글자가 깨지는 현상을 해결"
   ]
  },
  {
   "cell_type": "markdown",
   "id": "08a07733",
   "metadata": {},
   "source": [
    "## 파일 읽어오는 함수"
   ]
  },
  {
   "cell_type": "code",
   "execution_count": 2,
   "id": "96df5e3c",
   "metadata": {},
   "outputs": [],
   "source": [
    "def Read_data(filename):\n",
    "    df = pd.read_csv(\"{}.csv\".format(filename))\n",
    "    df.set_index('Date', inplace=True)\n",
    "    df.sort_index(ascending=True, inplace=True)\n",
    "    df['Name'] = filename # 식별자 추가(나중에 분석 돌리기 위해서 추가함..)\n",
    "    return df  "
   ]
  },
  {
   "cell_type": "markdown",
   "id": "deacdb73",
   "metadata": {},
   "source": [
    "## Test"
   ]
  },
  {
   "cell_type": "code",
   "execution_count": 3,
   "id": "b5c4c8c8",
   "metadata": {},
   "outputs": [],
   "source": [
    "UK_df = Read_data(\"UK\")\n",
    "KS200_df = Read_data(\"KS200\")\n",
    "OIL_df = Read_data(\"OIL\")\n",
    "CD91_df = Read_data(\"CD91\")"
   ]
  },
  {
   "cell_type": "code",
   "execution_count": 4,
   "id": "30bca9a7",
   "metadata": {},
   "outputs": [
    {
     "data": {
      "text/html": [
       "<div>\n",
       "<style scoped>\n",
       "    .dataframe tbody tr th:only-of-type {\n",
       "        vertical-align: middle;\n",
       "    }\n",
       "\n",
       "    .dataframe tbody tr th {\n",
       "        vertical-align: top;\n",
       "    }\n",
       "\n",
       "    .dataframe thead th {\n",
       "        text-align: right;\n",
       "    }\n",
       "</style>\n",
       "<table border=\"1\" class=\"dataframe\">\n",
       "  <thead>\n",
       "    <tr style=\"text-align: right;\">\n",
       "      <th></th>\n",
       "      <th>Close</th>\n",
       "      <th>Name</th>\n",
       "    </tr>\n",
       "    <tr>\n",
       "      <th>Date</th>\n",
       "      <th></th>\n",
       "      <th></th>\n",
       "    </tr>\n",
       "  </thead>\n",
       "  <tbody>\n",
       "    <tr>\n",
       "      <th>2023-03-02</th>\n",
       "      <td>3.61</td>\n",
       "      <td>CD91</td>\n",
       "    </tr>\n",
       "    <tr>\n",
       "      <th>2023-03-03</th>\n",
       "      <td>3.61</td>\n",
       "      <td>CD91</td>\n",
       "    </tr>\n",
       "    <tr>\n",
       "      <th>2023-03-06</th>\n",
       "      <td>3.61</td>\n",
       "      <td>CD91</td>\n",
       "    </tr>\n",
       "    <tr>\n",
       "      <th>2023-03-07</th>\n",
       "      <td>3.61</td>\n",
       "      <td>CD91</td>\n",
       "    </tr>\n",
       "    <tr>\n",
       "      <th>2023-03-08</th>\n",
       "      <td>3.61</td>\n",
       "      <td>CD91</td>\n",
       "    </tr>\n",
       "  </tbody>\n",
       "</table>\n",
       "</div>"
      ],
      "text/plain": [
       "            Close  Name\n",
       "Date                   \n",
       "2023-03-02   3.61  CD91\n",
       "2023-03-03   3.61  CD91\n",
       "2023-03-06   3.61  CD91\n",
       "2023-03-07   3.61  CD91\n",
       "2023-03-08   3.61  CD91"
      ]
     },
     "execution_count": 4,
     "metadata": {},
     "output_type": "execute_result"
    }
   ],
   "source": [
    "CD91_df.head()"
   ]
  },
  {
   "cell_type": "markdown",
   "id": "685d0b4a",
   "metadata": {},
   "source": [
    "## 파일 저장 후 그 파일의 인덱스 맞추는 함수"
   ]
  },
  {
   "cell_type": "code",
   "execution_count": 5,
   "id": "3f0421e9",
   "metadata": {},
   "outputs": [],
   "source": [
    "def array_index(*dfs):\n",
    "    longest_df = max(dfs, key=lambda df: len(df)) # 넣은 데이터 중 가장 길이가 긴 데이터 찾기\n",
    "    result_dfs = []\n",
    "    \n",
    "    for df in dfs:\n",
    "        df = df.reindex(longest_df.index).fillna(method='ffill') # 가장 긴 데이터 기준 인덱스 채워넣기\n",
    "        result_dfs.append(df)\n",
    "        \n",
    "    return result_dfs"
   ]
  },
  {
   "cell_type": "markdown",
   "id": "7e09f749",
   "metadata": {},
   "source": [
    "#### Test"
   ]
  },
  {
   "cell_type": "code",
   "execution_count": 6,
   "id": "212212a4",
   "metadata": {},
   "outputs": [
    {
     "data": {
      "text/plain": [
       "(58, 55, 57, 54)"
      ]
     },
     "execution_count": 6,
     "metadata": {},
     "output_type": "execute_result"
    }
   ],
   "source": [
    "len(UK_df), len(KS200_df), len(OIL_df), len(CD91_df)"
   ]
  },
  {
   "cell_type": "code",
   "execution_count": 7,
   "id": "a4824623",
   "metadata": {},
   "outputs": [],
   "source": [
    "UK_df, KS200_df, OIL_df, CD91_df = array_index(UK_df, KS200_df, OIL_df, CD91_df)"
   ]
  },
  {
   "cell_type": "code",
   "execution_count": 8,
   "id": "52f1dc44",
   "metadata": {},
   "outputs": [
    {
     "data": {
      "text/html": [
       "<div>\n",
       "<style scoped>\n",
       "    .dataframe tbody tr th:only-of-type {\n",
       "        vertical-align: middle;\n",
       "    }\n",
       "\n",
       "    .dataframe tbody tr th {\n",
       "        vertical-align: top;\n",
       "    }\n",
       "\n",
       "    .dataframe thead th {\n",
       "        text-align: right;\n",
       "    }\n",
       "</style>\n",
       "<table border=\"1\" class=\"dataframe\">\n",
       "  <thead>\n",
       "    <tr style=\"text-align: right;\">\n",
       "      <th></th>\n",
       "      <th>Open</th>\n",
       "      <th>High</th>\n",
       "      <th>Low</th>\n",
       "      <th>Close</th>\n",
       "      <th>Adj Close</th>\n",
       "      <th>Volume</th>\n",
       "      <th>Name</th>\n",
       "    </tr>\n",
       "    <tr>\n",
       "      <th>Date</th>\n",
       "      <th></th>\n",
       "      <th></th>\n",
       "      <th></th>\n",
       "      <th></th>\n",
       "      <th></th>\n",
       "      <th></th>\n",
       "      <th></th>\n",
       "    </tr>\n",
       "  </thead>\n",
       "  <tbody>\n",
       "    <tr>\n",
       "      <th>2023-03-01</th>\n",
       "      <td>1321.599976</td>\n",
       "      <td>1323.770020</td>\n",
       "      <td>1298.069946</td>\n",
       "      <td>1321.599976</td>\n",
       "      <td>1321.599976</td>\n",
       "      <td>0</td>\n",
       "      <td>UK</td>\n",
       "    </tr>\n",
       "    <tr>\n",
       "      <th>2023-03-02</th>\n",
       "      <td>1305.729980</td>\n",
       "      <td>1317.000000</td>\n",
       "      <td>1304.079956</td>\n",
       "      <td>1305.729980</td>\n",
       "      <td>1305.729980</td>\n",
       "      <td>0</td>\n",
       "      <td>UK</td>\n",
       "    </tr>\n",
       "    <tr>\n",
       "      <th>2023-03-03</th>\n",
       "      <td>1311.060059</td>\n",
       "      <td>1311.290039</td>\n",
       "      <td>1298.199951</td>\n",
       "      <td>1311.060059</td>\n",
       "      <td>1311.060059</td>\n",
       "      <td>0</td>\n",
       "      <td>UK</td>\n",
       "    </tr>\n",
       "    <tr>\n",
       "      <th>2023-03-06</th>\n",
       "      <td>1294.780029</td>\n",
       "      <td>1301.160034</td>\n",
       "      <td>1293.589966</td>\n",
       "      <td>1294.780029</td>\n",
       "      <td>1294.780029</td>\n",
       "      <td>0</td>\n",
       "      <td>UK</td>\n",
       "    </tr>\n",
       "    <tr>\n",
       "      <th>2023-03-07</th>\n",
       "      <td>1299.000000</td>\n",
       "      <td>1315.810059</td>\n",
       "      <td>1296.660034</td>\n",
       "      <td>1299.000000</td>\n",
       "      <td>1299.000000</td>\n",
       "      <td>0</td>\n",
       "      <td>UK</td>\n",
       "    </tr>\n",
       "  </tbody>\n",
       "</table>\n",
       "</div>"
      ],
      "text/plain": [
       "                   Open         High          Low        Close    Adj Close  \\\n",
       "Date                                                                          \n",
       "2023-03-01  1321.599976  1323.770020  1298.069946  1321.599976  1321.599976   \n",
       "2023-03-02  1305.729980  1317.000000  1304.079956  1305.729980  1305.729980   \n",
       "2023-03-03  1311.060059  1311.290039  1298.199951  1311.060059  1311.060059   \n",
       "2023-03-06  1294.780029  1301.160034  1293.589966  1294.780029  1294.780029   \n",
       "2023-03-07  1299.000000  1315.810059  1296.660034  1299.000000  1299.000000   \n",
       "\n",
       "            Volume Name  \n",
       "Date                     \n",
       "2023-03-01       0   UK  \n",
       "2023-03-02       0   UK  \n",
       "2023-03-03       0   UK  \n",
       "2023-03-06       0   UK  \n",
       "2023-03-07       0   UK  "
      ]
     },
     "execution_count": 8,
     "metadata": {},
     "output_type": "execute_result"
    }
   ],
   "source": [
    "UK_df.head()"
   ]
  },
  {
   "cell_type": "markdown",
   "id": "53f4fcd8",
   "metadata": {},
   "source": [
    "## 종가(Close),Name 데이터 중 NaN 값을 그 다음 날짜 값으로 채워넣는 함수"
   ]
  },
  {
   "cell_type": "code",
   "execution_count": 9,
   "id": "bec0a228",
   "metadata": {},
   "outputs": [],
   "source": [
    "def fill_Close_data(*dfs):\n",
    "    result = []\n",
    "    for df in dfs:\n",
    "        df['Close'] = df['Close'].fillna(method='bfill')\n",
    "        df['Name'] = df['Name'].fillna(method='bfill')\n",
    "        result.append(df)\n",
    "    return result"
   ]
  },
  {
   "cell_type": "markdown",
   "id": "fe9471f7",
   "metadata": {},
   "source": [
    "#### Test"
   ]
  },
  {
   "cell_type": "code",
   "execution_count": 10,
   "id": "4dae5724",
   "metadata": {},
   "outputs": [],
   "source": [
    "UK_df , KS200_df, OIL_df, CD91_df = fill_Close_data(UK_df, KS200_df, OIL_df, CD91_df)"
   ]
  },
  {
   "cell_type": "code",
   "execution_count": 11,
   "id": "92a12690",
   "metadata": {},
   "outputs": [
    {
     "data": {
      "text/html": [
       "<div>\n",
       "<style scoped>\n",
       "    .dataframe tbody tr th:only-of-type {\n",
       "        vertical-align: middle;\n",
       "    }\n",
       "\n",
       "    .dataframe tbody tr th {\n",
       "        vertical-align: top;\n",
       "    }\n",
       "\n",
       "    .dataframe thead th {\n",
       "        text-align: right;\n",
       "    }\n",
       "</style>\n",
       "<table border=\"1\" class=\"dataframe\">\n",
       "  <thead>\n",
       "    <tr style=\"text-align: right;\">\n",
       "      <th></th>\n",
       "      <th>Open</th>\n",
       "      <th>High</th>\n",
       "      <th>Low</th>\n",
       "      <th>Close</th>\n",
       "      <th>Adj Close</th>\n",
       "      <th>Volume</th>\n",
       "      <th>Name</th>\n",
       "    </tr>\n",
       "    <tr>\n",
       "      <th>Date</th>\n",
       "      <th></th>\n",
       "      <th></th>\n",
       "      <th></th>\n",
       "      <th></th>\n",
       "      <th></th>\n",
       "      <th></th>\n",
       "      <th></th>\n",
       "    </tr>\n",
       "  </thead>\n",
       "  <tbody>\n",
       "    <tr>\n",
       "      <th>2023-03-01</th>\n",
       "      <td>1321.599976</td>\n",
       "      <td>1323.770020</td>\n",
       "      <td>1298.069946</td>\n",
       "      <td>1321.599976</td>\n",
       "      <td>1321.599976</td>\n",
       "      <td>0</td>\n",
       "      <td>UK</td>\n",
       "    </tr>\n",
       "    <tr>\n",
       "      <th>2023-03-02</th>\n",
       "      <td>1305.729980</td>\n",
       "      <td>1317.000000</td>\n",
       "      <td>1304.079956</td>\n",
       "      <td>1305.729980</td>\n",
       "      <td>1305.729980</td>\n",
       "      <td>0</td>\n",
       "      <td>UK</td>\n",
       "    </tr>\n",
       "    <tr>\n",
       "      <th>2023-03-03</th>\n",
       "      <td>1311.060059</td>\n",
       "      <td>1311.290039</td>\n",
       "      <td>1298.199951</td>\n",
       "      <td>1311.060059</td>\n",
       "      <td>1311.060059</td>\n",
       "      <td>0</td>\n",
       "      <td>UK</td>\n",
       "    </tr>\n",
       "    <tr>\n",
       "      <th>2023-03-06</th>\n",
       "      <td>1294.780029</td>\n",
       "      <td>1301.160034</td>\n",
       "      <td>1293.589966</td>\n",
       "      <td>1294.780029</td>\n",
       "      <td>1294.780029</td>\n",
       "      <td>0</td>\n",
       "      <td>UK</td>\n",
       "    </tr>\n",
       "    <tr>\n",
       "      <th>2023-03-07</th>\n",
       "      <td>1299.000000</td>\n",
       "      <td>1315.810059</td>\n",
       "      <td>1296.660034</td>\n",
       "      <td>1299.000000</td>\n",
       "      <td>1299.000000</td>\n",
       "      <td>0</td>\n",
       "      <td>UK</td>\n",
       "    </tr>\n",
       "  </tbody>\n",
       "</table>\n",
       "</div>"
      ],
      "text/plain": [
       "                   Open         High          Low        Close    Adj Close  \\\n",
       "Date                                                                          \n",
       "2023-03-01  1321.599976  1323.770020  1298.069946  1321.599976  1321.599976   \n",
       "2023-03-02  1305.729980  1317.000000  1304.079956  1305.729980  1305.729980   \n",
       "2023-03-03  1311.060059  1311.290039  1298.199951  1311.060059  1311.060059   \n",
       "2023-03-06  1294.780029  1301.160034  1293.589966  1294.780029  1294.780029   \n",
       "2023-03-07  1299.000000  1315.810059  1296.660034  1299.000000  1299.000000   \n",
       "\n",
       "            Volume Name  \n",
       "Date                     \n",
       "2023-03-01       0   UK  \n",
       "2023-03-02       0   UK  \n",
       "2023-03-03       0   UK  \n",
       "2023-03-06       0   UK  \n",
       "2023-03-07       0   UK  "
      ]
     },
     "execution_count": 11,
     "metadata": {},
     "output_type": "execute_result"
    }
   ],
   "source": [
    "UK_df.head()"
   ]
  },
  {
   "cell_type": "code",
   "execution_count": 12,
   "id": "ae978167",
   "metadata": {},
   "outputs": [
    {
     "data": {
      "text/plain": [
       "(False, False, False, False)"
      ]
     },
     "execution_count": 12,
     "metadata": {},
     "output_type": "execute_result"
    }
   ],
   "source": [
    "UK_df['Close'].isnull().any(), KS200_df['Close'].isnull().any(), OIL_df['Close'].isnull().any(), CD91_df['Close'].isnull().any()\n",
    "# NaN 값이 하나라도 있는 경우 True, 아니면 False"
   ]
  },
  {
   "cell_type": "code",
   "execution_count": 13,
   "id": "0d530ea0",
   "metadata": {},
   "outputs": [
    {
     "data": {
      "text/plain": [
       "(False, False, False, False)"
      ]
     },
     "execution_count": 13,
     "metadata": {},
     "output_type": "execute_result"
    }
   ],
   "source": [
    "UK_df['Name'].isnull().any(), KS200_df['Name'].isnull().any(), OIL_df['Name'].isnull().any(), CD91_df['Name'].isnull().any()"
   ]
  },
  {
   "cell_type": "markdown",
   "id": "358b8e27",
   "metadata": {},
   "source": [
    "## 데이터 처리 된 파일 저장"
   ]
  },
  {
   "cell_type": "code",
   "execution_count": 14,
   "id": "ef9dba29",
   "metadata": {},
   "outputs": [],
   "source": [
    "def get_Data_SaveCsv(df, date, filename): # date ex)'2023-01-01' filename ex) 'OIL'\n",
    "    df = df.loc[date:]\n",
    "    return df.to_csv('{}.csv'.format(filename), index=True)\n",
    "\n",
    "# df 는 table, ex) OIL_df, KS200_df ..등등\n",
    "# date 에는 언제부터 ~ 오늘까지 가져오는 날짜임(시작날짜)\n",
    "# filename 은 내가 저장할 파일 이름 적어주면 됨"
   ]
  },
  {
   "cell_type": "code",
   "execution_count": 15,
   "id": "ba08e78b",
   "metadata": {},
   "outputs": [],
   "source": [
    "Total_df = UK_df, KS200_df, OIL_df, CD91_df"
   ]
  },
  {
   "cell_type": "code",
   "execution_count": 16,
   "id": "921f6e26",
   "metadata": {},
   "outputs": [],
   "source": [
    "for x in Total_df:\n",
    "    get_Data_SaveCsv(x,\"2023-01-01\",x['Name'].iloc[0])"
   ]
  },
  {
   "cell_type": "markdown",
   "id": "b3084d7d",
   "metadata": {},
   "source": [
    "## 상관관계 분석(인덱스, 데이터 다 맞아야함)"
   ]
  },
  {
   "cell_type": "code",
   "execution_count": 17,
   "id": "8a9ac441",
   "metadata": {},
   "outputs": [],
   "source": [
    "import scipy.stats # 상관관계 분석 import"
   ]
  },
  {
   "cell_type": "code",
   "execution_count": 18,
   "id": "763cd26a",
   "metadata": {
    "scrolled": true
   },
   "outputs": [
    {
     "data": {
      "text/plain": [
       "PearsonRResult(statistic=0.5070005866795846, pvalue=4.878277317690711e-05)"
      ]
     },
     "execution_count": 18,
     "metadata": {},
     "output_type": "execute_result"
    }
   ],
   "source": [
    "scipy.stats.pearsonr(KS200_df['Close'], UK_df['Close'])"
   ]
  },
  {
   "cell_type": "code",
   "execution_count": 19,
   "id": "2e50d981",
   "metadata": {},
   "outputs": [],
   "source": [
    "def anal_scipy(*dfs):\n",
    "    result = []\n",
    "    for i in range(len(dfs)):\n",
    "        for j in range(i+1, len(dfs)):\n",
    "            x = dfs[i]\n",
    "            y = dfs[j]\n",
    "            result_key = str(x['Name'].iloc[0]) + \", \" + str(y['Name'].iloc[0]) # UK,KS200 이런 형태로 만들어줌\n",
    "            result_value = (result_key, scipy.stats.pearsonr(x['Close'], y['Close']))\n",
    "            result.append(result_value)\n",
    "\n",
    "    return result"
   ]
  },
  {
   "cell_type": "code",
   "execution_count": 20,
   "id": "602778ff",
   "metadata": {},
   "outputs": [
    {
     "data": {
      "text/plain": [
       "[('UK, KS200',\n",
       "  PearsonRResult(statistic=0.5070005866795846, pvalue=4.878277317690711e-05)),\n",
       " ('UK, OIL',\n",
       "  PearsonRResult(statistic=-0.2831039947611312, pvalue=0.03128820682475924)),\n",
       " ('UK, CD91',\n",
       "  PearsonRResult(statistic=-0.17897795388878196, pvalue=0.17886216934713917)),\n",
       " ('KS200, OIL',\n",
       "  PearsonRResult(statistic=0.1474624844848569, pvalue=0.26931308135635246)),\n",
       " ('KS200, CD91',\n",
       "  PearsonRResult(statistic=-0.6677514130260247, pvalue=1.0305506842095527e-08)),\n",
       " ('OIL, CD91',\n",
       "  PearsonRResult(statistic=-0.4781424069809705, pvalue=0.000147037726580906))]"
      ]
     },
     "execution_count": 20,
     "metadata": {},
     "output_type": "execute_result"
    }
   ],
   "source": [
    "anal_scipy(UK_df, KS200_df, OIL_df, CD91_df)"
   ]
  }
 ],
 "metadata": {
  "kernelspec": {
   "display_name": "Python 3 (ipykernel)",
   "language": "python",
   "name": "python3"
  },
  "language_info": {
   "codemirror_mode": {
    "name": "ipython",
    "version": 3
   },
   "file_extension": ".py",
   "mimetype": "text/x-python",
   "name": "python",
   "nbconvert_exporter": "python",
   "pygments_lexer": "ipython3",
   "version": "3.9.13"
  }
 },
 "nbformat": 4,
 "nbformat_minor": 5
}
