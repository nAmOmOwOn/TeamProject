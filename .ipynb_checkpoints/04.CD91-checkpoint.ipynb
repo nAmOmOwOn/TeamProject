{
 "cells": [
  {
   "cell_type": "code",
   "execution_count": 1,
   "id": "a9cd3fb2",
   "metadata": {},
   "outputs": [],
   "source": [
    "import pandas as pd\n",
    "import numpy as np\n",
    "import pandas_datareader as pdr\n",
    "import matplotlib.pyplot as plt\n",
    "import FinanceDataReader as fdr\n",
    "import matplotlib\n",
    "matplotlib.rcParams['font.family'] = 'Malgun Gothic' # Windows\n",
    "# matplotlib.rcParams['font.family'] = 'AppleGothic' # Mac\n",
    "matplotlib.rcParams['font.size'] = 12 # 글자 크기\n",
    "matplotlib.rcParams['axes.unicode_minus'] = False # 한글 폰트 사용 시, 마이너스 글자가 깨지는 현상을 해결\n",
    "from datetime import date, timedelta"
   ]
  },
  {
   "cell_type": "code",
   "execution_count": 2,
   "id": "10487455",
   "metadata": {},
   "outputs": [
    {
     "data": {
      "text/html": [
       "<div>\n",
       "<style scoped>\n",
       "    .dataframe tbody tr th:only-of-type {\n",
       "        vertical-align: middle;\n",
       "    }\n",
       "\n",
       "    .dataframe tbody tr th {\n",
       "        vertical-align: top;\n",
       "    }\n",
       "\n",
       "    .dataframe thead th {\n",
       "        text-align: right;\n",
       "    }\n",
       "</style>\n",
       "<table border=\"1\" class=\"dataframe\">\n",
       "  <thead>\n",
       "    <tr style=\"text-align: right;\">\n",
       "      <th></th>\n",
       "      <th>Unnamed: 0</th>\n",
       "      <th>CD91일</th>\n",
       "      <th>콜 금리</th>\n",
       "      <th>국고채 3년</th>\n",
       "      <th>회사채 3년</th>\n",
       "    </tr>\n",
       "  </thead>\n",
       "  <tbody>\n",
       "    <tr>\n",
       "      <th>0</th>\n",
       "      <td>2003.08.25</td>\n",
       "      <td>3.86</td>\n",
       "      <td>NaN</td>\n",
       "      <td>NaN</td>\n",
       "      <td>5.83</td>\n",
       "    </tr>\n",
       "    <tr>\n",
       "      <th>1</th>\n",
       "      <td>2003.08.26</td>\n",
       "      <td>3.85</td>\n",
       "      <td>NaN</td>\n",
       "      <td>NaN</td>\n",
       "      <td>5.79</td>\n",
       "    </tr>\n",
       "    <tr>\n",
       "      <th>2</th>\n",
       "      <td>2003.08.27</td>\n",
       "      <td>3.85</td>\n",
       "      <td>NaN</td>\n",
       "      <td>NaN</td>\n",
       "      <td>5.75</td>\n",
       "    </tr>\n",
       "    <tr>\n",
       "      <th>3</th>\n",
       "      <td>2003.08.28</td>\n",
       "      <td>3.85</td>\n",
       "      <td>3.72</td>\n",
       "      <td>NaN</td>\n",
       "      <td>5.63</td>\n",
       "    </tr>\n",
       "    <tr>\n",
       "      <th>4</th>\n",
       "      <td>2003.08.29</td>\n",
       "      <td>3.85</td>\n",
       "      <td>3.72</td>\n",
       "      <td>NaN</td>\n",
       "      <td>5.60</td>\n",
       "    </tr>\n",
       "  </tbody>\n",
       "</table>\n",
       "</div>"
      ],
      "text/plain": [
       "   Unnamed: 0  CD91일  콜 금리  국고채 3년  회사채 3년\n",
       "0  2003.08.25   3.86   NaN     NaN    5.83\n",
       "1  2003.08.26   3.85   NaN     NaN    5.79\n",
       "2  2003.08.27   3.85   NaN     NaN    5.75\n",
       "3  2003.08.28   3.85  3.72     NaN    5.63\n",
       "4  2003.08.29   3.85  3.72     NaN    5.60"
      ]
     },
     "execution_count": 2,
     "metadata": {},
     "output_type": "execute_result"
    }
   ],
   "source": [
    "CD91_df = pd.read_csv(\"interest_rate.csv\")\n",
    "CD91_df.head()"
   ]
  },
  {
   "cell_type": "code",
   "execution_count": 3,
   "id": "16b96e41",
   "metadata": {},
   "outputs": [],
   "source": [
    "CD91_df.rename(columns={'Unnamed: 0': 'Date'}, inplace=True) # Unnamed: 0 Column 의 이름을 Date 로 변경\n",
    "CD91_df.rename(columns={'CD91일': 'CD91'}, inplace=True)\n",
    "CD91_df['Date'] = pd.to_datetime(CD91_df['Date'], format='%Y.%m.%d').dt.strftime('%Y-%m-%d') # 날짜 형식 2003.01.01 을 2003-01-01 로 형식 변경\n",
    "CD91_df.set_index('Date', inplace=True) # 날짜를 index 값으로 지정"
   ]
  },
  {
   "cell_type": "code",
   "execution_count": 4,
   "id": "480be389",
   "metadata": {},
   "outputs": [
    {
     "data": {
      "text/html": [
       "<div>\n",
       "<style scoped>\n",
       "    .dataframe tbody tr th:only-of-type {\n",
       "        vertical-align: middle;\n",
       "    }\n",
       "\n",
       "    .dataframe tbody tr th {\n",
       "        vertical-align: top;\n",
       "    }\n",
       "\n",
       "    .dataframe thead th {\n",
       "        text-align: right;\n",
       "    }\n",
       "</style>\n",
       "<table border=\"1\" class=\"dataframe\">\n",
       "  <thead>\n",
       "    <tr style=\"text-align: right;\">\n",
       "      <th></th>\n",
       "      <th>CD91</th>\n",
       "      <th>콜 금리</th>\n",
       "      <th>국고채 3년</th>\n",
       "      <th>회사채 3년</th>\n",
       "    </tr>\n",
       "    <tr>\n",
       "      <th>Date</th>\n",
       "      <th></th>\n",
       "      <th></th>\n",
       "      <th></th>\n",
       "      <th></th>\n",
       "    </tr>\n",
       "  </thead>\n",
       "  <tbody>\n",
       "    <tr>\n",
       "      <th>2003-08-25</th>\n",
       "      <td>3.86</td>\n",
       "      <td>NaN</td>\n",
       "      <td>NaN</td>\n",
       "      <td>5.83</td>\n",
       "    </tr>\n",
       "    <tr>\n",
       "      <th>2003-08-26</th>\n",
       "      <td>3.85</td>\n",
       "      <td>NaN</td>\n",
       "      <td>NaN</td>\n",
       "      <td>5.79</td>\n",
       "    </tr>\n",
       "    <tr>\n",
       "      <th>2003-08-27</th>\n",
       "      <td>3.85</td>\n",
       "      <td>NaN</td>\n",
       "      <td>NaN</td>\n",
       "      <td>5.75</td>\n",
       "    </tr>\n",
       "    <tr>\n",
       "      <th>2003-08-28</th>\n",
       "      <td>3.85</td>\n",
       "      <td>3.72</td>\n",
       "      <td>NaN</td>\n",
       "      <td>5.63</td>\n",
       "    </tr>\n",
       "    <tr>\n",
       "      <th>2003-08-29</th>\n",
       "      <td>3.85</td>\n",
       "      <td>3.72</td>\n",
       "      <td>NaN</td>\n",
       "      <td>5.60</td>\n",
       "    </tr>\n",
       "  </tbody>\n",
       "</table>\n",
       "</div>"
      ],
      "text/plain": [
       "            CD91  콜 금리  국고채 3년  회사채 3년\n",
       "Date                                  \n",
       "2003-08-25  3.86   NaN     NaN    5.83\n",
       "2003-08-26  3.85   NaN     NaN    5.79\n",
       "2003-08-27  3.85   NaN     NaN    5.75\n",
       "2003-08-28  3.85  3.72     NaN    5.63\n",
       "2003-08-29  3.85  3.72     NaN    5.60"
      ]
     },
     "execution_count": 4,
     "metadata": {},
     "output_type": "execute_result"
    }
   ],
   "source": [
    "CD91_df.head()"
   ]
  },
  {
   "cell_type": "code",
   "execution_count": 5,
   "id": "4d16ce1b",
   "metadata": {},
   "outputs": [
    {
     "data": {
      "text/plain": [
       "True"
      ]
     },
     "execution_count": 5,
     "metadata": {},
     "output_type": "execute_result"
    }
   ],
   "source": [
    "CD91_df['CD91'].isna().any() # NaN 값이 1개 이상 존재하면 True 아니면 False"
   ]
  },
  {
   "cell_type": "markdown",
   "id": "1d3a5802",
   "metadata": {},
   "source": [
    "## 컬럼 명 변겅"
   ]
  },
  {
   "cell_type": "code",
   "execution_count": 6,
   "id": "576afa68",
   "metadata": {},
   "outputs": [],
   "source": [
    "CD91_df.rename(columns={'CD91': 'Close'}, inplace=True)"
   ]
  },
  {
   "cell_type": "code",
   "execution_count": 7,
   "id": "356de257",
   "metadata": {},
   "outputs": [
    {
     "data": {
      "text/plain": [
       "Date\n",
       "2003-08-25    3.86\n",
       "2003-08-26    3.85\n",
       "2003-08-27    3.85\n",
       "2003-08-28    3.85\n",
       "2003-08-29    3.85\n",
       "Name: Close, dtype: float64"
      ]
     },
     "execution_count": 7,
     "metadata": {},
     "output_type": "execute_result"
    }
   ],
   "source": [
    "CD91_df = CD91_df['Close']\n",
    "CD91_df.head()"
   ]
  },
  {
   "cell_type": "code",
   "execution_count": 8,
   "id": "3e327eb5",
   "metadata": {},
   "outputs": [
    {
     "data": {
      "text/plain": [
       "pandas.core.indexes.base.Index"
      ]
     },
     "execution_count": 8,
     "metadata": {},
     "output_type": "execute_result"
    }
   ],
   "source": [
    "type(CD91_df.index)"
   ]
  },
  {
   "cell_type": "markdown",
   "id": "355f5613",
   "metadata": {},
   "source": [
    "## 인덱스 타입 변경"
   ]
  },
  {
   "cell_type": "code",
   "execution_count": 9,
   "id": "673ece36",
   "metadata": {},
   "outputs": [
    {
     "data": {
      "text/plain": [
       "pandas.core.indexes.datetimes.DatetimeIndex"
      ]
     },
     "execution_count": 9,
     "metadata": {},
     "output_type": "execute_result"
    }
   ],
   "source": [
    "CD91_df.index = pd.DatetimeIndex(CD91_df.index)\n",
    "type(CD91_df.index)"
   ]
  },
  {
   "cell_type": "markdown",
   "id": "545f768a",
   "metadata": {},
   "source": [
    "## 파일 저장 함수"
   ]
  },
  {
   "cell_type": "code",
   "execution_count": 10,
   "id": "63816ce4",
   "metadata": {},
   "outputs": [],
   "source": [
    "def get_Data_SaveCsv(df, date, filename): # date ex)'2023-01-01' filename ex) 'OIL'\n",
    "    df = df.loc[date:]\n",
    "    return df.to_csv('{}.csv'.format(filename), index=True)\n",
    "\n",
    "# df 는 table, ex) OIL_df, KS200_df ..등등\n",
    "# date 에는 언제부터 ~ 오늘까지 가져오는 날짜임(시작날짜)\n",
    "# filename 은 내가 저장할 파일 이름 적어주면 됨"
   ]
  },
  {
   "cell_type": "markdown",
   "id": "9afd916e",
   "metadata": {},
   "source": [
    "### 오늘 날짜 기준 X일 이전 날짜 구해주는 코드"
   ]
  },
  {
   "cell_type": "code",
   "execution_count": 11,
   "id": "aa4bdb8d",
   "metadata": {},
   "outputs": [
    {
     "data": {
      "text/plain": [
       "'2023-03-10'"
      ]
     },
     "execution_count": 11,
     "metadata": {},
     "output_type": "execute_result"
    }
   ],
   "source": [
    "today = date.today()\n",
    "previous_date = today - timedelta(days=70) # days = 뒤에 원하는 숫자 넣으면 됨\n",
    "today_before = previous_date.strftime(\"%Y-%m-%d\")\n",
    "today_before"
   ]
  },
  {
   "cell_type": "markdown",
   "id": "f4a7167a",
   "metadata": {},
   "source": [
    "#### Test"
   ]
  },
  {
   "cell_type": "code",
   "execution_count": 12,
   "id": "83589398",
   "metadata": {},
   "outputs": [],
   "source": [
    "get_Data_SaveCsv(CD91_df, today_before, 'CD91')"
   ]
  }
 ],
 "metadata": {
  "kernelspec": {
   "display_name": "Python 3 (ipykernel)",
   "language": "python",
   "name": "python3"
  },
  "language_info": {
   "codemirror_mode": {
    "name": "ipython",
    "version": 3
   },
   "file_extension": ".py",
   "mimetype": "text/x-python",
   "name": "python",
   "nbconvert_exporter": "python",
   "pygments_lexer": "ipython3",
   "version": "3.9.13"
  }
 },
 "nbformat": 4,
 "nbformat_minor": 5
}
