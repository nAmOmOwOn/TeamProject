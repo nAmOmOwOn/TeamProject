{
 "cells": [
  {
   "cell_type": "code",
   "execution_count": 1,
   "id": "f245c4bb",
   "metadata": {},
   "outputs": [],
   "source": [
    "import pandas as pd\n",
    "import numpy as np\n",
    "import pandas_datareader as pdr\n",
    "import matplotlib.pyplot as plt\n",
    "import FinanceDataReader as fdr\n",
    "import matplotlib\n",
    "matplotlib.rcParams['font.family'] = 'Malgun Gothic' # Windows\n",
    "# matplotlib.rcParams['font.family'] = 'AppleGothic' # Mac\n",
    "matplotlib.rcParams['font.size'] = 12 # 글자 크기\n",
    "matplotlib.rcParams['axes.unicode_minus'] = False # 한글 폰트 사용 시, 마이너스 글자가 깨지는 현상을 해결\n",
    "from datetime import date, timedelta"
   ]
  },
  {
   "cell_type": "markdown",
   "id": "08a07733",
   "metadata": {},
   "source": [
    "## 파일 읽어오는 함수"
   ]
  },
  {
   "cell_type": "code",
   "execution_count": 2,
   "id": "96df5e3c",
   "metadata": {},
   "outputs": [],
   "source": [
    "def Read_data(filename):\n",
    "    df = pd.read_csv(\"{}.csv\".format(filename))\n",
    "    df.set_index('Date', inplace=True)\n",
    "    df.sort_index(ascending=True, inplace=True)\n",
    "    df['Name'] = filename # 식별자 추가(나중에 분석 돌리기 위해서 추가함..)\n",
    "    return df"
   ]
  },
  {
   "cell_type": "markdown",
   "id": "deacdb73",
   "metadata": {},
   "source": [
    "## Test"
   ]
  },
  {
   "cell_type": "code",
   "execution_count": 3,
   "id": "b5c4c8c8",
   "metadata": {},
   "outputs": [],
   "source": [
    "UK_df = Read_data(\"UK\")\n",
    "KS200_df = Read_data(\"KS200\")\n",
    "OIL_df = Read_data(\"OIL\")\n",
    "CD91_df = Read_data(\"CD91\")"
   ]
  },
  {
   "cell_type": "code",
   "execution_count": 4,
   "id": "30bca9a7",
   "metadata": {},
   "outputs": [
    {
     "data": {
      "text/html": [
       "<div>\n",
       "<style scoped>\n",
       "    .dataframe tbody tr th:only-of-type {\n",
       "        vertical-align: middle;\n",
       "    }\n",
       "\n",
       "    .dataframe tbody tr th {\n",
       "        vertical-align: top;\n",
       "    }\n",
       "\n",
       "    .dataframe thead th {\n",
       "        text-align: right;\n",
       "    }\n",
       "</style>\n",
       "<table border=\"1\" class=\"dataframe\">\n",
       "  <thead>\n",
       "    <tr style=\"text-align: right;\">\n",
       "      <th></th>\n",
       "      <th>Close</th>\n",
       "      <th>Name</th>\n",
       "    </tr>\n",
       "    <tr>\n",
       "      <th>Date</th>\n",
       "      <th></th>\n",
       "      <th></th>\n",
       "    </tr>\n",
       "  </thead>\n",
       "  <tbody>\n",
       "    <tr>\n",
       "      <th>2023-03-13</th>\n",
       "      <td>3.61</td>\n",
       "      <td>CD91</td>\n",
       "    </tr>\n",
       "    <tr>\n",
       "      <th>2023-03-14</th>\n",
       "      <td>3.61</td>\n",
       "      <td>CD91</td>\n",
       "    </tr>\n",
       "    <tr>\n",
       "      <th>2023-03-15</th>\n",
       "      <td>3.61</td>\n",
       "      <td>CD91</td>\n",
       "    </tr>\n",
       "    <tr>\n",
       "      <th>2023-03-16</th>\n",
       "      <td>3.62</td>\n",
       "      <td>CD91</td>\n",
       "    </tr>\n",
       "    <tr>\n",
       "      <th>2023-03-17</th>\n",
       "      <td>3.62</td>\n",
       "      <td>CD91</td>\n",
       "    </tr>\n",
       "  </tbody>\n",
       "</table>\n",
       "</div>"
      ],
      "text/plain": [
       "            Close  Name\n",
       "Date                   \n",
       "2023-03-13   3.61  CD91\n",
       "2023-03-14   3.61  CD91\n",
       "2023-03-15   3.61  CD91\n",
       "2023-03-16   3.62  CD91\n",
       "2023-03-17   3.62  CD91"
      ]
     },
     "execution_count": 4,
     "metadata": {},
     "output_type": "execute_result"
    }
   ],
   "source": [
    "CD91_df.head()"
   ]
  },
  {
   "cell_type": "markdown",
   "id": "685d0b4a",
   "metadata": {},
   "source": [
    "## 파일 저장 후 그 파일의 인덱스 맞추는 함수"
   ]
  },
  {
   "cell_type": "code",
   "execution_count": 5,
   "id": "3f0421e9",
   "metadata": {},
   "outputs": [],
   "source": [
    "def array_index(*dfs):\n",
    "    longest_df = max(dfs, key=lambda df: len(df)) # 넣은 데이터 중 가장 길이가 긴 데이터 찾기\n",
    "    result_dfs = []\n",
    "    \n",
    "    for df in dfs:\n",
    "        df = df.reindex(longest_df.index).fillna(method='ffill') # 가장 긴 데이터 기준 인덱스 채워넣기\n",
    "        result_dfs.append(df)\n",
    "        \n",
    "    return result_dfs"
   ]
  },
  {
   "cell_type": "markdown",
   "id": "7e09f749",
   "metadata": {},
   "source": [
    "#### Test"
   ]
  },
  {
   "cell_type": "code",
   "execution_count": 6,
   "id": "212212a4",
   "metadata": {},
   "outputs": [
    {
     "data": {
      "text/plain": [
       "(50, 50, 50, 50)"
      ]
     },
     "execution_count": 6,
     "metadata": {},
     "output_type": "execute_result"
    }
   ],
   "source": [
    "len(UK_df), len(KS200_df), len(OIL_df), len(CD91_df)"
   ]
  },
  {
   "cell_type": "code",
   "execution_count": 7,
   "id": "a4824623",
   "metadata": {},
   "outputs": [],
   "source": [
    "UK_df, KS200_df, OIL_df, CD91_df = array_index(UK_df, KS200_df, OIL_df, CD91_df)"
   ]
  },
  {
   "cell_type": "code",
   "execution_count": 8,
   "id": "52f1dc44",
   "metadata": {},
   "outputs": [
    {
     "data": {
      "text/html": [
       "<div>\n",
       "<style scoped>\n",
       "    .dataframe tbody tr th:only-of-type {\n",
       "        vertical-align: middle;\n",
       "    }\n",
       "\n",
       "    .dataframe tbody tr th {\n",
       "        vertical-align: top;\n",
       "    }\n",
       "\n",
       "    .dataframe thead th {\n",
       "        text-align: right;\n",
       "    }\n",
       "</style>\n",
       "<table border=\"1\" class=\"dataframe\">\n",
       "  <thead>\n",
       "    <tr style=\"text-align: right;\">\n",
       "      <th></th>\n",
       "      <th>Open</th>\n",
       "      <th>High</th>\n",
       "      <th>Low</th>\n",
       "      <th>Close</th>\n",
       "      <th>Adj Close</th>\n",
       "      <th>Volume</th>\n",
       "      <th>Name</th>\n",
       "    </tr>\n",
       "    <tr>\n",
       "      <th>Date</th>\n",
       "      <th></th>\n",
       "      <th></th>\n",
       "      <th></th>\n",
       "      <th></th>\n",
       "      <th></th>\n",
       "      <th></th>\n",
       "      <th></th>\n",
       "    </tr>\n",
       "  </thead>\n",
       "  <tbody>\n",
       "    <tr>\n",
       "      <th>2023-03-13</th>\n",
       "      <td>1319.540039</td>\n",
       "      <td>1317.579956</td>\n",
       "      <td>1297.469971</td>\n",
       "      <td>1319.540039</td>\n",
       "      <td>1319.540039</td>\n",
       "      <td>0</td>\n",
       "      <td>UK</td>\n",
       "    </tr>\n",
       "    <tr>\n",
       "      <th>2023-03-14</th>\n",
       "      <td>1296.380005</td>\n",
       "      <td>1314.469971</td>\n",
       "      <td>1295.250000</td>\n",
       "      <td>1296.380005</td>\n",
       "      <td>1296.380005</td>\n",
       "      <td>0</td>\n",
       "      <td>UK</td>\n",
       "    </tr>\n",
       "    <tr>\n",
       "      <th>2023-03-15</th>\n",
       "      <td>1304.579956</td>\n",
       "      <td>1322.020020</td>\n",
       "      <td>1295.510010</td>\n",
       "      <td>1304.579956</td>\n",
       "      <td>1304.579956</td>\n",
       "      <td>0</td>\n",
       "      <td>UK</td>\n",
       "    </tr>\n",
       "    <tr>\n",
       "      <th>2023-03-16</th>\n",
       "      <td>1311.739990</td>\n",
       "      <td>1315.979980</td>\n",
       "      <td>1303.000000</td>\n",
       "      <td>1311.739990</td>\n",
       "      <td>1311.739990</td>\n",
       "      <td>0</td>\n",
       "      <td>UK</td>\n",
       "    </tr>\n",
       "    <tr>\n",
       "      <th>2023-03-17</th>\n",
       "      <td>1301.619995</td>\n",
       "      <td>1309.010010</td>\n",
       "      <td>1298.349976</td>\n",
       "      <td>1301.619995</td>\n",
       "      <td>1301.619995</td>\n",
       "      <td>0</td>\n",
       "      <td>UK</td>\n",
       "    </tr>\n",
       "  </tbody>\n",
       "</table>\n",
       "</div>"
      ],
      "text/plain": [
       "                   Open         High          Low        Close    Adj Close  \\\n",
       "Date                                                                          \n",
       "2023-03-13  1319.540039  1317.579956  1297.469971  1319.540039  1319.540039   \n",
       "2023-03-14  1296.380005  1314.469971  1295.250000  1296.380005  1296.380005   \n",
       "2023-03-15  1304.579956  1322.020020  1295.510010  1304.579956  1304.579956   \n",
       "2023-03-16  1311.739990  1315.979980  1303.000000  1311.739990  1311.739990   \n",
       "2023-03-17  1301.619995  1309.010010  1298.349976  1301.619995  1301.619995   \n",
       "\n",
       "            Volume Name  \n",
       "Date                     \n",
       "2023-03-13       0   UK  \n",
       "2023-03-14       0   UK  \n",
       "2023-03-15       0   UK  \n",
       "2023-03-16       0   UK  \n",
       "2023-03-17       0   UK  "
      ]
     },
     "execution_count": 8,
     "metadata": {},
     "output_type": "execute_result"
    }
   ],
   "source": [
    "UK_df.head()"
   ]
  },
  {
   "cell_type": "code",
   "execution_count": 9,
   "id": "6d81d662",
   "metadata": {},
   "outputs": [
    {
     "data": {
      "text/plain": [
       "(50, 50, 50, 50)"
      ]
     },
     "execution_count": 9,
     "metadata": {},
     "output_type": "execute_result"
    }
   ],
   "source": [
    "len(UK_df), len(KS200_df), len(OIL_df), len(CD91_df)"
   ]
  },
  {
   "cell_type": "markdown",
   "id": "53f4fcd8",
   "metadata": {},
   "source": [
    "## 종가(Close),Name 데이터 중 NaN 값을 그 다음 날짜 값으로 채워넣는 함수"
   ]
  },
  {
   "cell_type": "code",
   "execution_count": 10,
   "id": "bec0a228",
   "metadata": {},
   "outputs": [],
   "source": [
    "def fill_Close_data(*dfs):\n",
    "    result = []\n",
    "    for df in dfs:\n",
    "        df['Close'] = df['Close'].fillna(method='bfill')\n",
    "        df['Name'] = df['Name'].fillna(method='bfill')\n",
    "        result.append(df)\n",
    "    return result"
   ]
  },
  {
   "cell_type": "markdown",
   "id": "fe9471f7",
   "metadata": {},
   "source": [
    "#### Test"
   ]
  },
  {
   "cell_type": "code",
   "execution_count": 11,
   "id": "4dae5724",
   "metadata": {},
   "outputs": [],
   "source": [
    "UK_df , KS200_df, OIL_df, CD91_df = fill_Close_data(UK_df, KS200_df, OIL_df, CD91_df)"
   ]
  },
  {
   "cell_type": "code",
   "execution_count": 12,
   "id": "92a12690",
   "metadata": {},
   "outputs": [
    {
     "data": {
      "text/html": [
       "<div>\n",
       "<style scoped>\n",
       "    .dataframe tbody tr th:only-of-type {\n",
       "        vertical-align: middle;\n",
       "    }\n",
       "\n",
       "    .dataframe tbody tr th {\n",
       "        vertical-align: top;\n",
       "    }\n",
       "\n",
       "    .dataframe thead th {\n",
       "        text-align: right;\n",
       "    }\n",
       "</style>\n",
       "<table border=\"1\" class=\"dataframe\">\n",
       "  <thead>\n",
       "    <tr style=\"text-align: right;\">\n",
       "      <th></th>\n",
       "      <th>Open</th>\n",
       "      <th>High</th>\n",
       "      <th>Low</th>\n",
       "      <th>Close</th>\n",
       "      <th>Adj Close</th>\n",
       "      <th>Volume</th>\n",
       "      <th>Name</th>\n",
       "    </tr>\n",
       "    <tr>\n",
       "      <th>Date</th>\n",
       "      <th></th>\n",
       "      <th></th>\n",
       "      <th></th>\n",
       "      <th></th>\n",
       "      <th></th>\n",
       "      <th></th>\n",
       "      <th></th>\n",
       "    </tr>\n",
       "  </thead>\n",
       "  <tbody>\n",
       "    <tr>\n",
       "      <th>2023-03-13</th>\n",
       "      <td>1319.540039</td>\n",
       "      <td>1317.579956</td>\n",
       "      <td>1297.469971</td>\n",
       "      <td>1319.540039</td>\n",
       "      <td>1319.540039</td>\n",
       "      <td>0</td>\n",
       "      <td>UK</td>\n",
       "    </tr>\n",
       "    <tr>\n",
       "      <th>2023-03-14</th>\n",
       "      <td>1296.380005</td>\n",
       "      <td>1314.469971</td>\n",
       "      <td>1295.250000</td>\n",
       "      <td>1296.380005</td>\n",
       "      <td>1296.380005</td>\n",
       "      <td>0</td>\n",
       "      <td>UK</td>\n",
       "    </tr>\n",
       "    <tr>\n",
       "      <th>2023-03-15</th>\n",
       "      <td>1304.579956</td>\n",
       "      <td>1322.020020</td>\n",
       "      <td>1295.510010</td>\n",
       "      <td>1304.579956</td>\n",
       "      <td>1304.579956</td>\n",
       "      <td>0</td>\n",
       "      <td>UK</td>\n",
       "    </tr>\n",
       "    <tr>\n",
       "      <th>2023-03-16</th>\n",
       "      <td>1311.739990</td>\n",
       "      <td>1315.979980</td>\n",
       "      <td>1303.000000</td>\n",
       "      <td>1311.739990</td>\n",
       "      <td>1311.739990</td>\n",
       "      <td>0</td>\n",
       "      <td>UK</td>\n",
       "    </tr>\n",
       "    <tr>\n",
       "      <th>2023-03-17</th>\n",
       "      <td>1301.619995</td>\n",
       "      <td>1309.010010</td>\n",
       "      <td>1298.349976</td>\n",
       "      <td>1301.619995</td>\n",
       "      <td>1301.619995</td>\n",
       "      <td>0</td>\n",
       "      <td>UK</td>\n",
       "    </tr>\n",
       "  </tbody>\n",
       "</table>\n",
       "</div>"
      ],
      "text/plain": [
       "                   Open         High          Low        Close    Adj Close  \\\n",
       "Date                                                                          \n",
       "2023-03-13  1319.540039  1317.579956  1297.469971  1319.540039  1319.540039   \n",
       "2023-03-14  1296.380005  1314.469971  1295.250000  1296.380005  1296.380005   \n",
       "2023-03-15  1304.579956  1322.020020  1295.510010  1304.579956  1304.579956   \n",
       "2023-03-16  1311.739990  1315.979980  1303.000000  1311.739990  1311.739990   \n",
       "2023-03-17  1301.619995  1309.010010  1298.349976  1301.619995  1301.619995   \n",
       "\n",
       "            Volume Name  \n",
       "Date                     \n",
       "2023-03-13       0   UK  \n",
       "2023-03-14       0   UK  \n",
       "2023-03-15       0   UK  \n",
       "2023-03-16       0   UK  \n",
       "2023-03-17       0   UK  "
      ]
     },
     "execution_count": 12,
     "metadata": {},
     "output_type": "execute_result"
    }
   ],
   "source": [
    "UK_df.head()"
   ]
  },
  {
   "cell_type": "code",
   "execution_count": 13,
   "id": "ae978167",
   "metadata": {},
   "outputs": [
    {
     "data": {
      "text/plain": [
       "(False, False, False, False)"
      ]
     },
     "execution_count": 13,
     "metadata": {},
     "output_type": "execute_result"
    }
   ],
   "source": [
    "UK_df['Close'].isnull().any(), KS200_df['Close'].isnull().any(), OIL_df['Close'].isnull().any(), CD91_df['Close'].isnull().any()\n",
    "# NaN 값이 하나라도 있는 경우 True, 아니면 False"
   ]
  },
  {
   "cell_type": "code",
   "execution_count": 14,
   "id": "0d530ea0",
   "metadata": {},
   "outputs": [
    {
     "data": {
      "text/plain": [
       "(False, False, False, False)"
      ]
     },
     "execution_count": 14,
     "metadata": {},
     "output_type": "execute_result"
    }
   ],
   "source": [
    "UK_df['Name'].isnull().any(), KS200_df['Name'].isnull().any(), OIL_df['Name'].isnull().any(), CD91_df['Name'].isnull().any()"
   ]
  },
  {
   "cell_type": "markdown",
   "id": "358b8e27",
   "metadata": {},
   "source": [
    "## 데이터 처리 된 파일 저장"
   ]
  },
  {
   "cell_type": "code",
   "execution_count": 15,
   "id": "ef9dba29",
   "metadata": {},
   "outputs": [],
   "source": [
    "def get_Data_SaveCsv(df, date, filename): # date ex)'2023-01-01' filename ex) 'OIL'\n",
    "    df = df.loc[date:]\n",
    "    return df.to_csv('{}.csv'.format(filename), index=True)\n",
    "\n",
    "# df 는 table, ex) OIL_df, KS200_df ..등등\n",
    "# date 에는 언제부터 ~ 오늘까지 가져오는 날짜임(시작날짜)\n",
    "# filename 은 내가 저장할 파일 이름 적어주면 됨"
   ]
  },
  {
   "cell_type": "code",
   "execution_count": 16,
   "id": "ba08e78b",
   "metadata": {},
   "outputs": [],
   "source": [
    "Total_df = UK_df, KS200_df, OIL_df, CD91_df"
   ]
  },
  {
   "cell_type": "code",
   "execution_count": 17,
   "id": "6294abb8",
   "metadata": {},
   "outputs": [],
   "source": [
    "today = date.today()\n",
    "previous_date = today - timedelta(days=70) # days = 뒤에 원하는 숫자 넣으면 됨\n",
    "today_before = previous_date.strftime(\"%Y-%m-%d\")"
   ]
  },
  {
   "cell_type": "code",
   "execution_count": 18,
   "id": "921f6e26",
   "metadata": {},
   "outputs": [],
   "source": [
    "for x in Total_df:\n",
    "    get_Data_SaveCsv(x,today_before ,x['Name'].iloc[0])"
   ]
  },
  {
   "cell_type": "markdown",
   "id": "b3084d7d",
   "metadata": {},
   "source": [
    "## 상관관계 분석(인덱스, 데이터 다 맞아야함)"
   ]
  },
  {
   "cell_type": "code",
   "execution_count": 19,
   "id": "8a9ac441",
   "metadata": {},
   "outputs": [],
   "source": [
    "import scipy.stats # 상관관계 분석 import"
   ]
  },
  {
   "cell_type": "code",
   "execution_count": 20,
   "id": "763cd26a",
   "metadata": {
    "scrolled": true
   },
   "outputs": [
    {
     "data": {
      "text/plain": [
       "PearsonRResult(statistic=0.5481631474060957, pvalue=3.7754022375892525e-05)"
      ]
     },
     "execution_count": 20,
     "metadata": {},
     "output_type": "execute_result"
    }
   ],
   "source": [
    "scipy.stats.pearsonr(KS200_df['Close'], UK_df['Close'])"
   ]
  },
  {
   "cell_type": "code",
   "execution_count": 21,
   "id": "2e50d981",
   "metadata": {},
   "outputs": [],
   "source": [
    "def anal_scipy(*dfs):\n",
    "    result = []\n",
    "    for i in range(len(dfs)):\n",
    "        for j in range(i+1, len(dfs)):\n",
    "            x = dfs[i]\n",
    "            y = dfs[j]\n",
    "            result_key = str(x['Name'].iloc[0]) + \", \" + str(y['Name'].iloc[0]) # UK,KS200 이런 형태로 만들어줌\n",
    "            result_value = (result_key, scipy.stats.pearsonr(x['Close'], y['Close']))\n",
    "            result.append(result_value)\n",
    "\n",
    "    return result"
   ]
  },
  {
   "cell_type": "code",
   "execution_count": 22,
   "id": "602778ff",
   "metadata": {},
   "outputs": [
    {
     "data": {
      "text/plain": [
       "[('UK, KS200',\n",
       "  PearsonRResult(statistic=0.5481631474060957, pvalue=3.7754022375892525e-05)),\n",
       " ('UK, OIL',\n",
       "  PearsonRResult(statistic=-0.2453232245501142, pvalue=0.08594782895533956)),\n",
       " ('UK, CD91',\n",
       "  PearsonRResult(statistic=-0.14615358753109486, pvalue=0.3111681025574625)),\n",
       " ('KS200, OIL',\n",
       "  PearsonRResult(statistic=0.26708376750627993, pvalue=0.06078994625390792)),\n",
       " ('KS200, CD91',\n",
       "  PearsonRResult(statistic=-0.6443438584490275, pvalue=4.43596744677677e-07)),\n",
       " ('OIL, CD91',\n",
       "  PearsonRResult(statistic=-0.6226060902097283, pvalue=1.3810977466046154e-06))]"
      ]
     },
     "execution_count": 22,
     "metadata": {},
     "output_type": "execute_result"
    }
   ],
   "source": [
    "anal_scipy(UK_df, KS200_df, OIL_df, CD91_df)"
   ]
  },
  {
   "cell_type": "markdown",
   "id": "459b5003",
   "metadata": {},
   "source": [
    "## Test"
   ]
  },
  {
   "cell_type": "code",
   "execution_count": 23,
   "id": "127abcaa",
   "metadata": {
    "scrolled": true
   },
   "outputs": [
    {
     "data": {
      "text/plain": [
       "0.5481631474060957"
      ]
     },
     "execution_count": 23,
     "metadata": {},
     "output_type": "execute_result"
    }
   ],
   "source": [
    "anal_scipy(UK_df, KS200_df, OIL_df, CD91_df)[0][1][0]"
   ]
  },
  {
   "cell_type": "code",
   "execution_count": 24,
   "id": "fff90660",
   "metadata": {},
   "outputs": [
    {
     "data": {
      "text/plain": [
       "'UK, KS200'"
      ]
     },
     "execution_count": 24,
     "metadata": {},
     "output_type": "execute_result"
    }
   ],
   "source": [
    "anal_scipy(UK_df, KS200_df, OIL_df, CD91_df)[0][0]"
   ]
  },
  {
   "cell_type": "code",
   "execution_count": 25,
   "id": "42f52acd",
   "metadata": {
    "scrolled": true
   },
   "outputs": [
    {
     "data": {
      "text/plain": [
       "6"
      ]
     },
     "execution_count": 25,
     "metadata": {},
     "output_type": "execute_result"
    }
   ],
   "source": [
    "len(anal_scipy(UK_df, KS200_df, OIL_df, CD91_df))"
   ]
  },
  {
   "cell_type": "code",
   "execution_count": 26,
   "id": "63710d11",
   "metadata": {},
   "outputs": [],
   "source": [
    "Graph_data = []\n",
    "for x in range(len(anal_scipy(UK_df, KS200_df, OIL_df, CD91_df))):\n",
    "    Graph_data.append(anal_scipy(UK_df, KS200_df, OIL_df, CD91_df)[x][1][0])"
   ]
  },
  {
   "cell_type": "code",
   "execution_count": 27,
   "id": "73957899",
   "metadata": {},
   "outputs": [
    {
     "data": {
      "text/plain": [
       "[0.5481631474060957,\n",
       " -0.2453232245501142,\n",
       " -0.14615358753109486,\n",
       " 0.26708376750627993,\n",
       " -0.6443438584490275,\n",
       " -0.6226060902097283]"
      ]
     },
     "execution_count": 27,
     "metadata": {},
     "output_type": "execute_result"
    }
   ],
   "source": [
    "Graph_data"
   ]
  },
  {
   "cell_type": "code",
   "execution_count": 28,
   "id": "7b16b48d",
   "metadata": {},
   "outputs": [],
   "source": [
    "Graph_index = []\n",
    "for x in range(len(anal_scipy(UK_df, KS200_df, OIL_df, CD91_df))):\n",
    "    Graph_index.append(anal_scipy(UK_df, KS200_df, OIL_df, CD91_df)[x][0])"
   ]
  },
  {
   "cell_type": "code",
   "execution_count": 29,
   "id": "5c99b69e",
   "metadata": {},
   "outputs": [
    {
     "data": {
      "text/plain": [
       "['UK, KS200', 'UK, OIL', 'UK, CD91', 'KS200, OIL', 'KS200, CD91', 'OIL, CD91']"
      ]
     },
     "execution_count": 29,
     "metadata": {},
     "output_type": "execute_result"
    }
   ],
   "source": [
    "Graph_index"
   ]
  },
  {
   "cell_type": "code",
   "execution_count": 30,
   "id": "46a3f0ff",
   "metadata": {},
   "outputs": [],
   "source": [
    "abs_Graph_data = []\n",
    "for x in Graph_data:\n",
    "    abs_Graph_data.append(abs(x))"
   ]
  },
  {
   "cell_type": "code",
   "execution_count": 31,
   "id": "4ffcf533",
   "metadata": {},
   "outputs": [
    {
     "data": {
      "text/plain": [
       "[0.5481631474060957,\n",
       " 0.2453232245501142,\n",
       " 0.14615358753109486,\n",
       " 0.26708376750627993,\n",
       " 0.6443438584490275,\n",
       " 0.6226060902097283]"
      ]
     },
     "execution_count": 31,
     "metadata": {},
     "output_type": "execute_result"
    }
   ],
   "source": [
    "abs_Graph_data"
   ]
  },
  {
   "cell_type": "code",
   "execution_count": 32,
   "id": "915782c0",
   "metadata": {},
   "outputs": [],
   "source": [
    "def anal_scipy_data(*dfs):\n",
    "    Anal_data = anal_scipy(*dfs)\n",
    "    Graph_data = []\n",
    "    Graph_index = []\n",
    "    for x in range(len(Anal_data)):\n",
    "        Graph_data.append(abs(Anal_data[x][1][0]))\n",
    "        Graph_index.append(Anal_data[x][0])\n",
    "    \n",
    "    df = pd.DataFrame({'Value': Graph_data}, index=Graph_index)\n",
    "        \n",
    "    return df"
   ]
  },
  {
   "cell_type": "code",
   "execution_count": 33,
   "id": "f24c24e4",
   "metadata": {},
   "outputs": [
    {
     "data": {
      "text/html": [
       "<div>\n",
       "<style scoped>\n",
       "    .dataframe tbody tr th:only-of-type {\n",
       "        vertical-align: middle;\n",
       "    }\n",
       "\n",
       "    .dataframe tbody tr th {\n",
       "        vertical-align: top;\n",
       "    }\n",
       "\n",
       "    .dataframe thead th {\n",
       "        text-align: right;\n",
       "    }\n",
       "</style>\n",
       "<table border=\"1\" class=\"dataframe\">\n",
       "  <thead>\n",
       "    <tr style=\"text-align: right;\">\n",
       "      <th></th>\n",
       "      <th>Value</th>\n",
       "    </tr>\n",
       "  </thead>\n",
       "  <tbody>\n",
       "    <tr>\n",
       "      <th>UK, KS200</th>\n",
       "      <td>0.548163</td>\n",
       "    </tr>\n",
       "    <tr>\n",
       "      <th>UK, OIL</th>\n",
       "      <td>0.245323</td>\n",
       "    </tr>\n",
       "    <tr>\n",
       "      <th>UK, CD91</th>\n",
       "      <td>0.146154</td>\n",
       "    </tr>\n",
       "    <tr>\n",
       "      <th>KS200, OIL</th>\n",
       "      <td>0.267084</td>\n",
       "    </tr>\n",
       "    <tr>\n",
       "      <th>KS200, CD91</th>\n",
       "      <td>0.644344</td>\n",
       "    </tr>\n",
       "    <tr>\n",
       "      <th>OIL, CD91</th>\n",
       "      <td>0.622606</td>\n",
       "    </tr>\n",
       "  </tbody>\n",
       "</table>\n",
       "</div>"
      ],
      "text/plain": [
       "                Value\n",
       "UK, KS200    0.548163\n",
       "UK, OIL      0.245323\n",
       "UK, CD91     0.146154\n",
       "KS200, OIL   0.267084\n",
       "KS200, CD91  0.644344\n",
       "OIL, CD91    0.622606"
      ]
     },
     "execution_count": 33,
     "metadata": {},
     "output_type": "execute_result"
    }
   ],
   "source": [
    "anal_scipy_data(UK_df, KS200_df, OIL_df, CD91_df)"
   ]
  },
  {
   "cell_type": "code",
   "execution_count": null,
   "id": "5c93fd95",
   "metadata": {},
   "outputs": [],
   "source": []
  },
  {
   "cell_type": "code",
   "execution_count": null,
   "id": "f940d94c",
   "metadata": {},
   "outputs": [],
   "source": []
  },
  {
   "cell_type": "code",
   "execution_count": null,
   "id": "b5d618ce",
   "metadata": {},
   "outputs": [],
   "source": []
  },
  {
   "cell_type": "code",
   "execution_count": null,
   "id": "b1d419fa",
   "metadata": {},
   "outputs": [],
   "source": []
  },
  {
   "cell_type": "code",
   "execution_count": null,
   "id": "4353c2bb",
   "metadata": {},
   "outputs": [],
   "source": []
  },
  {
   "cell_type": "code",
   "execution_count": null,
   "id": "0e266903",
   "metadata": {},
   "outputs": [],
   "source": []
  }
 ],
 "metadata": {
  "kernelspec": {
   "display_name": "Python 3 (ipykernel)",
   "language": "python",
   "name": "python3"
  },
  "language_info": {
   "codemirror_mode": {
    "name": "ipython",
    "version": 3
   },
   "file_extension": ".py",
   "mimetype": "text/x-python",
   "name": "python",
   "nbconvert_exporter": "python",
   "pygments_lexer": "ipython3",
   "version": "3.9.13"
  }
 },
 "nbformat": 4,
 "nbformat_minor": 5
}
