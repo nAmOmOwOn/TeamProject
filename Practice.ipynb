{
 "cells": [
  {
   "cell_type": "code",
   "execution_count": 1,
   "id": "c5922591",
   "metadata": {},
   "outputs": [],
   "source": [
    "import pandas as pd\n",
    "import numpy as np\n",
    "import pandas_datareader as pdr\n",
    "import FinanceDataReader as fdr\n",
    "import matplotlib.pyplot as plt\n",
    "import matplotlib\n",
    "matplotlib.rcParams['font.family'] = 'Malgun Gothic' # Windows\n",
    "# matplotlib.rcParams['font.family'] = 'AppleGothic' # Mac\n",
    "matplotlib.rcParams['font.size'] = 12 # 글자 크기\n",
    "matplotlib.rcParams['axes.unicode_minus'] = False # 한글 폰트 사용 시, 마이너스 글자가 깨지는 현상을 해결"
   ]
  },
  {
   "cell_type": "code",
   "execution_count": 2,
   "id": "52ec20dc",
   "metadata": {},
   "outputs": [
    {
     "data": {
      "text/html": [
       "<div>\n",
       "<style scoped>\n",
       "    .dataframe tbody tr th:only-of-type {\n",
       "        vertical-align: middle;\n",
       "    }\n",
       "\n",
       "    .dataframe tbody tr th {\n",
       "        vertical-align: top;\n",
       "    }\n",
       "\n",
       "    .dataframe thead th {\n",
       "        text-align: right;\n",
       "    }\n",
       "</style>\n",
       "<table border=\"1\" class=\"dataframe\">\n",
       "  <thead>\n",
       "    <tr style=\"text-align: right;\">\n",
       "      <th></th>\n",
       "      <th>Open</th>\n",
       "      <th>High</th>\n",
       "      <th>Low</th>\n",
       "      <th>Close</th>\n",
       "      <th>Volume</th>\n",
       "      <th>Change</th>\n",
       "    </tr>\n",
       "    <tr>\n",
       "      <th>Date</th>\n",
       "      <th></th>\n",
       "      <th></th>\n",
       "      <th></th>\n",
       "      <th></th>\n",
       "      <th></th>\n",
       "      <th></th>\n",
       "    </tr>\n",
       "  </thead>\n",
       "  <tbody>\n",
       "    <tr>\n",
       "      <th>2023-01-02</th>\n",
       "      <td>6960</td>\n",
       "      <td>7080</td>\n",
       "      <td>6630</td>\n",
       "      <td>6670</td>\n",
       "      <td>846949</td>\n",
       "      <td>-0.043042</td>\n",
       "    </tr>\n",
       "    <tr>\n",
       "      <th>2023-01-03</th>\n",
       "      <td>6810</td>\n",
       "      <td>6900</td>\n",
       "      <td>6640</td>\n",
       "      <td>6820</td>\n",
       "      <td>944526</td>\n",
       "      <td>0.022489</td>\n",
       "    </tr>\n",
       "    <tr>\n",
       "      <th>2023-01-04</th>\n",
       "      <td>6750</td>\n",
       "      <td>6840</td>\n",
       "      <td>6550</td>\n",
       "      <td>6800</td>\n",
       "      <td>578597</td>\n",
       "      <td>-0.002933</td>\n",
       "    </tr>\n",
       "    <tr>\n",
       "      <th>2023-01-05</th>\n",
       "      <td>6800</td>\n",
       "      <td>6800</td>\n",
       "      <td>6530</td>\n",
       "      <td>6570</td>\n",
       "      <td>981183</td>\n",
       "      <td>-0.033824</td>\n",
       "    </tr>\n",
       "    <tr>\n",
       "      <th>2023-01-06</th>\n",
       "      <td>6510</td>\n",
       "      <td>6780</td>\n",
       "      <td>6470</td>\n",
       "      <td>6700</td>\n",
       "      <td>819038</td>\n",
       "      <td>0.019787</td>\n",
       "    </tr>\n",
       "    <tr>\n",
       "      <th>2023-01-09</th>\n",
       "      <td>6730</td>\n",
       "      <td>6970</td>\n",
       "      <td>6730</td>\n",
       "      <td>6830</td>\n",
       "      <td>753002</td>\n",
       "      <td>0.019403</td>\n",
       "    </tr>\n",
       "    <tr>\n",
       "      <th>2023-01-10</th>\n",
       "      <td>6800</td>\n",
       "      <td>6920</td>\n",
       "      <td>6680</td>\n",
       "      <td>6790</td>\n",
       "      <td>875824</td>\n",
       "      <td>-0.005857</td>\n",
       "    </tr>\n",
       "    <tr>\n",
       "      <th>2023-01-11</th>\n",
       "      <td>6790</td>\n",
       "      <td>6930</td>\n",
       "      <td>6780</td>\n",
       "      <td>6880</td>\n",
       "      <td>658596</td>\n",
       "      <td>0.013255</td>\n",
       "    </tr>\n",
       "    <tr>\n",
       "      <th>2023-01-12</th>\n",
       "      <td>6940</td>\n",
       "      <td>6940</td>\n",
       "      <td>6760</td>\n",
       "      <td>6900</td>\n",
       "      <td>866400</td>\n",
       "      <td>0.002907</td>\n",
       "    </tr>\n",
       "    <tr>\n",
       "      <th>2023-01-13</th>\n",
       "      <td>6880</td>\n",
       "      <td>6970</td>\n",
       "      <td>6800</td>\n",
       "      <td>6820</td>\n",
       "      <td>1010206</td>\n",
       "      <td>-0.011594</td>\n",
       "    </tr>\n",
       "  </tbody>\n",
       "</table>\n",
       "</div>"
      ],
      "text/plain": [
       "            Open  High   Low  Close   Volume    Change\n",
       "Date                                                  \n",
       "2023-01-02  6960  7080  6630   6670   846949 -0.043042\n",
       "2023-01-03  6810  6900  6640   6820   944526  0.022489\n",
       "2023-01-04  6750  6840  6550   6800   578597 -0.002933\n",
       "2023-01-05  6800  6800  6530   6570   981183 -0.033824\n",
       "2023-01-06  6510  6780  6470   6700   819038  0.019787\n",
       "2023-01-09  6730  6970  6730   6830   753002  0.019403\n",
       "2023-01-10  6800  6920  6680   6790   875824 -0.005857\n",
       "2023-01-11  6790  6930  6780   6880   658596  0.013255\n",
       "2023-01-12  6940  6940  6760   6900   866400  0.002907\n",
       "2023-01-13  6880  6970  6800   6820  1010206 -0.011594"
      ]
     },
     "execution_count": 2,
     "metadata": {},
     "output_type": "execute_result"
    }
   ],
   "source": [
    "df = fdr.DataReader('215600', '2023')\n",
    "df.head(10)"
   ]
  },
  {
   "cell_type": "code",
   "execution_count": 6,
   "id": "fee9de93",
   "metadata": {
    "scrolled": true
   },
   "outputs": [
    {
     "data": {
      "text/plain": [
       "0.0032679738562091387"
      ]
     },
     "execution_count": 6,
     "metadata": {},
     "output_type": "execute_result"
    }
   ],
   "source": [
    "df['Change'][-1]"
   ]
  },
  {
   "cell_type": "code",
   "execution_count": 7,
   "id": "d7eea2cd",
   "metadata": {
    "scrolled": true
   },
   "outputs": [
    {
     "data": {
      "text/plain": [
       "0.0016366612111293755"
      ]
     },
     "execution_count": 7,
     "metadata": {},
     "output_type": "execute_result"
    }
   ],
   "source": [
    "df['Change'][-2]"
   ]
  },
  {
   "cell_type": "code",
   "execution_count": 8,
   "id": "39ab828c",
   "metadata": {},
   "outputs": [
    {
     "data": {
      "text/plain": [
       "-0.018181818181818188"
      ]
     },
     "execution_count": 8,
     "metadata": {},
     "output_type": "execute_result"
    }
   ],
   "source": [
    "df['Change'][-4]"
   ]
  },
  {
   "cell_type": "code",
   "execution_count": null,
   "id": "a1ffbe0a",
   "metadata": {},
   "outputs": [],
   "source": []
  },
  {
   "cell_type": "code",
   "execution_count": null,
   "id": "4ba162d7",
   "metadata": {},
   "outputs": [],
   "source": []
  },
  {
   "cell_type": "code",
   "execution_count": null,
   "id": "7a1ad879",
   "metadata": {},
   "outputs": [],
   "source": []
  },
  {
   "cell_type": "code",
   "execution_count": null,
   "id": "70f4de58",
   "metadata": {},
   "outputs": [],
   "source": []
  },
  {
   "cell_type": "code",
   "execution_count": null,
   "id": "6f5a3896",
   "metadata": {},
   "outputs": [],
   "source": []
  },
  {
   "cell_type": "code",
   "execution_count": null,
   "id": "fbe0ad66",
   "metadata": {},
   "outputs": [],
   "source": []
  }
 ],
 "metadata": {
  "kernelspec": {
   "display_name": "Python 3 (ipykernel)",
   "language": "python",
   "name": "python3"
  },
  "language_info": {
   "codemirror_mode": {
    "name": "ipython",
    "version": 3
   },
   "file_extension": ".py",
   "mimetype": "text/x-python",
   "name": "python",
   "nbconvert_exporter": "python",
   "pygments_lexer": "ipython3",
   "version": "3.9.13"
  }
 },
 "nbformat": 4,
 "nbformat_minor": 5
}
