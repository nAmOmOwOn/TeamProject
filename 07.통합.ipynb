{
 "cells": [
  {
   "cell_type": "code",
   "execution_count": 1,
   "id": "f245c4bb",
   "metadata": {},
   "outputs": [],
   "source": [
    "import pandas as pd\n",
    "import numpy as np\n",
    "import pandas_datareader as pdr\n",
    "import matplotlib.pyplot as plt\n",
    "import FinanceDataReader as fdr\n",
    "import matplotlib\n",
    "matplotlib.rcParams['font.family'] = 'Malgun Gothic' # Windows\n",
    "# matplotlib.rcParams['font.family'] = 'AppleGothic' # Mac\n",
    "matplotlib.rcParams['font.size'] = 12 # 글자 크기\n",
    "matplotlib.rcParams['axes.unicode_minus'] = False # 한글 폰트 사용 시, 마이너스 글자가 깨지는 현상을 해결"
   ]
  },
  {
   "cell_type": "markdown",
   "id": "08a07733",
   "metadata": {},
   "source": [
    "## 파일 읽어오는 함수"
   ]
  },
  {
   "cell_type": "code",
   "execution_count": 2,
   "id": "96df5e3c",
   "metadata": {},
   "outputs": [],
   "source": [
    "def Read_data(filename):\n",
    "    return pd.read_csv(\"{}.csv\".format(filename))"
   ]
  },
  {
   "cell_type": "markdown",
   "id": "deacdb73",
   "metadata": {},
   "source": [
    "## Test"
   ]
  },
  {
   "cell_type": "code",
   "execution_count": 3,
   "id": "b5c4c8c8",
   "metadata": {},
   "outputs": [
    {
     "data": {
      "text/html": [
       "<div>\n",
       "<style scoped>\n",
       "    .dataframe tbody tr th:only-of-type {\n",
       "        vertical-align: middle;\n",
       "    }\n",
       "\n",
       "    .dataframe tbody tr th {\n",
       "        vertical-align: top;\n",
       "    }\n",
       "\n",
       "    .dataframe thead th {\n",
       "        text-align: right;\n",
       "    }\n",
       "</style>\n",
       "<table border=\"1\" class=\"dataframe\">\n",
       "  <thead>\n",
       "    <tr style=\"text-align: right;\">\n",
       "      <th></th>\n",
       "      <th>Date</th>\n",
       "      <th>Open</th>\n",
       "      <th>High</th>\n",
       "      <th>Low</th>\n",
       "      <th>Close</th>\n",
       "      <th>Adj Close</th>\n",
       "      <th>Volume</th>\n",
       "    </tr>\n",
       "  </thead>\n",
       "  <tbody>\n",
       "    <tr>\n",
       "      <th>0</th>\n",
       "      <td>2013-01-01</td>\n",
       "      <td>1062.500000</td>\n",
       "      <td>1064.500000</td>\n",
       "      <td>1061.640015</td>\n",
       "      <td>1062.500000</td>\n",
       "      <td>1062.500000</td>\n",
       "      <td>0.0</td>\n",
       "    </tr>\n",
       "    <tr>\n",
       "      <th>1</th>\n",
       "      <td>2013-01-02</td>\n",
       "      <td>1062.599976</td>\n",
       "      <td>1064.800049</td>\n",
       "      <td>1061.500000</td>\n",
       "      <td>1062.500000</td>\n",
       "      <td>1062.500000</td>\n",
       "      <td>0.0</td>\n",
       "    </tr>\n",
       "    <tr>\n",
       "      <th>2</th>\n",
       "      <td>2013-01-03</td>\n",
       "      <td>1062.400024</td>\n",
       "      <td>1063.800049</td>\n",
       "      <td>1059.199951</td>\n",
       "      <td>1062.599976</td>\n",
       "      <td>1062.599976</td>\n",
       "      <td>0.0</td>\n",
       "    </tr>\n",
       "    <tr>\n",
       "      <th>3</th>\n",
       "      <td>2013-01-04</td>\n",
       "      <td>1062.000000</td>\n",
       "      <td>1064.199951</td>\n",
       "      <td>1060.750000</td>\n",
       "      <td>1061.900024</td>\n",
       "      <td>1061.900024</td>\n",
       "      <td>0.0</td>\n",
       "    </tr>\n",
       "    <tr>\n",
       "      <th>4</th>\n",
       "      <td>2013-01-07</td>\n",
       "      <td>1055.000000</td>\n",
       "      <td>1063.900024</td>\n",
       "      <td>1033.000000</td>\n",
       "      <td>1033.099976</td>\n",
       "      <td>1033.099976</td>\n",
       "      <td>0.0</td>\n",
       "    </tr>\n",
       "  </tbody>\n",
       "</table>\n",
       "</div>"
      ],
      "text/plain": [
       "         Date         Open         High          Low        Close  \\\n",
       "0  2013-01-01  1062.500000  1064.500000  1061.640015  1062.500000   \n",
       "1  2013-01-02  1062.599976  1064.800049  1061.500000  1062.500000   \n",
       "2  2013-01-03  1062.400024  1063.800049  1059.199951  1062.599976   \n",
       "3  2013-01-04  1062.000000  1064.199951  1060.750000  1061.900024   \n",
       "4  2013-01-07  1055.000000  1063.900024  1033.000000  1033.099976   \n",
       "\n",
       "     Adj Close  Volume  \n",
       "0  1062.500000     0.0  \n",
       "1  1062.500000     0.0  \n",
       "2  1062.599976     0.0  \n",
       "3  1061.900024     0.0  \n",
       "4  1033.099976     0.0  "
      ]
     },
     "execution_count": 3,
     "metadata": {},
     "output_type": "execute_result"
    }
   ],
   "source": [
    "test_df = Read_data(\"UK\")\n",
    "test_df.head()"
   ]
  },
  {
   "cell_type": "markdown",
   "id": "685d0b4a",
   "metadata": {},
   "source": [
    "## 파일 저장 후 그 파일의 인덱스 맞추는 함수"
   ]
  },
  {
   "cell_type": "code",
   "execution_count": 4,
   "id": "46716721",
   "metadata": {},
   "outputs": [],
   "source": [
    "def array_index(df1, df2, df3, df4): # df1의 len 이 가장 크다고 가정하고 함수 만듬\n",
    " \n",
    "    df2 = df2.reindex(df1.index).fillna(method='ffill')\n",
    "    df3 = df3.reindex(df1.index).fillna(method='ffill')\n",
    "    df4 = df4.reindex(df1.index).fillna(method='ffill')\n",
    "    return df1, df2, df3, df4"
   ]
  },
  {
   "cell_type": "markdown",
   "id": "53f4fcd8",
   "metadata": {},
   "source": [
    "## 종가(Close) 데이터 중 NaN 값을 그 다음 날짜 값으로 채워넣는 함수"
   ]
  },
  {
   "cell_type": "code",
   "execution_count": 5,
   "id": "6d085d4e",
   "metadata": {},
   "outputs": [],
   "source": [
    "def fill_Close_data(df1, df2, df3, df4):\n",
    "    df1['Close'] = df1['Close'].fillna(method='bfill')\n",
    "    df2['Close'] = df2['Close'].fillna(method='bfill')\n",
    "    df3['Close'] = df3['Close'].fillna(method='bfill')\n",
    "    df4['Close'] = df4['Close'].fillna(method='bfill')\n",
    "    return df1, df2, df3, df4\n",
    "    "
   ]
  },
  {
   "cell_type": "markdown",
   "id": "b3084d7d",
   "metadata": {},
   "source": [
    "## 상관관계 분석"
   ]
  },
  {
   "cell_type": "code",
   "execution_count": 6,
   "id": "8a9ac441",
   "metadata": {},
   "outputs": [],
   "source": [
    "import scipy.stats"
   ]
  },
  {
   "cell_type": "code",
   "execution_count": null,
   "id": "9517557e",
   "metadata": {},
   "outputs": [],
   "source": []
  },
  {
   "cell_type": "code",
   "execution_count": null,
   "id": "ec5f202d",
   "metadata": {},
   "outputs": [],
   "source": []
  },
  {
   "cell_type": "code",
   "execution_count": null,
   "id": "14544c43",
   "metadata": {},
   "outputs": [],
   "source": []
  },
  {
   "cell_type": "code",
   "execution_count": null,
   "id": "097c9b37",
   "metadata": {},
   "outputs": [],
   "source": []
  },
  {
   "cell_type": "code",
   "execution_count": null,
   "id": "fe137fa3",
   "metadata": {},
   "outputs": [],
   "source": []
  },
  {
   "cell_type": "code",
   "execution_count": null,
   "id": "259f84cd",
   "metadata": {},
   "outputs": [],
   "source": []
  },
  {
   "cell_type": "code",
   "execution_count": null,
   "id": "b18c9b0b",
   "metadata": {},
   "outputs": [],
   "source": []
  },
  {
   "cell_type": "code",
   "execution_count": null,
   "id": "2ce6357d",
   "metadata": {},
   "outputs": [],
   "source": []
  },
  {
   "cell_type": "code",
   "execution_count": null,
   "id": "3cee9a16",
   "metadata": {},
   "outputs": [],
   "source": []
  },
  {
   "cell_type": "code",
   "execution_count": null,
   "id": "6ac5a6d9",
   "metadata": {},
   "outputs": [],
   "source": []
  }
 ],
 "metadata": {
  "kernelspec": {
   "display_name": "Python 3 (ipykernel)",
   "language": "python",
   "name": "python3"
  },
  "language_info": {
   "codemirror_mode": {
    "name": "ipython",
    "version": 3
   },
   "file_extension": ".py",
   "mimetype": "text/x-python",
   "name": "python",
   "nbconvert_exporter": "python",
   "pygments_lexer": "ipython3",
   "version": "3.9.13"
  }
 },
 "nbformat": 4,
 "nbformat_minor": 5
}
