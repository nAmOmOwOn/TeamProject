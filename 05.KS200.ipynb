{
 "cells": [
  {
   "cell_type": "code",
   "execution_count": 1,
   "id": "3908d461",
   "metadata": {},
   "outputs": [],
   "source": [
    "import pandas as pd\n",
    "import numpy as np\n",
    "import pandas_datareader as pdr\n",
    "import matplotlib.pyplot as plt\n",
    "import FinanceDataReader as fdr\n",
    "import matplotlib\n",
    "matplotlib.rcParams['font.family'] = 'Malgun Gothic' # Windows\n",
    "# matplotlib.rcParams['font.family'] = 'AppleGothic' # Mac\n",
    "matplotlib.rcParams['font.size'] = 12 # 글자 크기\n",
    "matplotlib.rcParams['axes.unicode_minus'] = False # 한글 폰트 사용 시, 마이너스 글자가 깨지는 현상을 해결\n",
    "from datetime import date, timedelta"
   ]
  },
  {
   "cell_type": "markdown",
   "id": "73145f8e",
   "metadata": {},
   "source": [
    "## KS200 데이터 가져오기"
   ]
  },
  {
   "cell_type": "code",
   "execution_count": 2,
   "id": "625764f3",
   "metadata": {},
   "outputs": [
    {
     "data": {
      "text/plain": [
       "Date\n",
       "2023-01-02    289.790009\n",
       "2023-01-03    289.579987\n",
       "2023-01-04    295.980011\n",
       "2023-01-05    297.869995\n",
       "2023-01-06    301.529999\n",
       "Name: Close, dtype: float64"
      ]
     },
     "execution_count": 2,
     "metadata": {},
     "output_type": "execute_result"
    }
   ],
   "source": [
    "KS200_df = fdr.DataReader('KS200', '2023') # 2023년부터 가져오는거(이건 원하는 년도 넣으면 됨)\n",
    "KS200_df['Close'].head()"
   ]
  },
  {
   "cell_type": "markdown",
   "id": "cf3a11cb",
   "metadata": {},
   "source": [
    "## 데이터 수 확인"
   ]
  },
  {
   "cell_type": "code",
   "execution_count": 3,
   "id": "e9e0c242",
   "metadata": {},
   "outputs": [
    {
     "data": {
      "text/plain": [
       "96"
      ]
     },
     "execution_count": 3,
     "metadata": {},
     "output_type": "execute_result"
    }
   ],
   "source": [
    "len(KS200_df['Close'])"
   ]
  },
  {
   "cell_type": "code",
   "execution_count": 4,
   "id": "ea614e07",
   "metadata": {},
   "outputs": [
    {
     "data": {
      "text/plain": [
       "False"
      ]
     },
     "execution_count": 4,
     "metadata": {},
     "output_type": "execute_result"
    }
   ],
   "source": [
    "KS200_df['Close'].isna().any() # NaN 값이 1개 이상 존재하면 True 아니면 False"
   ]
  },
  {
   "cell_type": "markdown",
   "id": "e722c149",
   "metadata": {},
   "source": [
    "## 인덱스 타입 확인"
   ]
  },
  {
   "cell_type": "code",
   "execution_count": 5,
   "id": "8d86c568",
   "metadata": {
    "scrolled": true
   },
   "outputs": [
    {
     "data": {
      "text/plain": [
       "pandas.core.indexes.datetimes.DatetimeIndex"
      ]
     },
     "execution_count": 5,
     "metadata": {},
     "output_type": "execute_result"
    }
   ],
   "source": [
    "type(KS200_df.index)"
   ]
  },
  {
   "cell_type": "markdown",
   "id": "203dcc94",
   "metadata": {},
   "source": [
    "## 선택한 데이터 저장 함수"
   ]
  },
  {
   "cell_type": "code",
   "execution_count": 6,
   "id": "25284d86",
   "metadata": {},
   "outputs": [],
   "source": [
    "def get_Data_SaveCsv(df, date, filename): # date ex)'2023-01-01' filename ex) 'OIL'\n",
    "    df = df.loc[date:]\n",
    "    return df.to_csv('{}.csv'.format(filename), index=True)\n",
    "\n",
    "# df 는 table, ex) OIL_df, KS200_df ..등등\n",
    "# date 에는 언제부터 ~ 오늘까지 가져오는 날짜임(시작날짜)\n",
    "# filename 은 내가 저장할 파일 이름 적어주면 됨"
   ]
  },
  {
   "cell_type": "markdown",
   "id": "2ac95a2a",
   "metadata": {},
   "source": [
    "### 오늘 날짜 기준 X일 이전 날짜 구해주는 코드"
   ]
  },
  {
   "cell_type": "code",
   "execution_count": 7,
   "id": "1beeaccb",
   "metadata": {},
   "outputs": [
    {
     "data": {
      "text/plain": [
       "'2023-03-13'"
      ]
     },
     "execution_count": 7,
     "metadata": {},
     "output_type": "execute_result"
    }
   ],
   "source": [
    "today = date.today()\n",
    "previous_date = today - timedelta(days=70) # days = 뒤에 원하는 숫자 넣으면 됨\n",
    "today_before = previous_date.strftime(\"%Y-%m-%d\")\n",
    "today_before"
   ]
  },
  {
   "cell_type": "markdown",
   "id": "1c2f569a",
   "metadata": {},
   "source": [
    "#### Test"
   ]
  },
  {
   "cell_type": "code",
   "execution_count": 8,
   "id": "6376bb9d",
   "metadata": {},
   "outputs": [],
   "source": [
    "get_Data_SaveCsv(KS200_df, today_before, 'KS200')"
   ]
  }
 ],
 "metadata": {
  "kernelspec": {
   "display_name": "Python 3 (ipykernel)",
   "language": "python",
   "name": "python3"
  },
  "language_info": {
   "codemirror_mode": {
    "name": "ipython",
    "version": 3
   },
   "file_extension": ".py",
   "mimetype": "text/x-python",
   "name": "python",
   "nbconvert_exporter": "python",
   "pygments_lexer": "ipython3",
   "version": "3.9.13"
  }
 },
 "nbformat": 4,
 "nbformat_minor": 5
}
